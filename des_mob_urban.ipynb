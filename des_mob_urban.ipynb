{
 "cells": [
  {
   "attachments": {},
   "cell_type": "markdown",
   "id": "41ffbea2-c083-4c1f-884a-1def170865f9",
   "metadata": {},
   "source": [
    "# Desigualdades na Mobilidade Urbana no Brasil"
   ]
  },
  {
   "attachments": {},
   "cell_type": "markdown",
   "id": "97f937f6-192b-468f-bf22-142a4fed3485",
   "metadata": {},
   "source": [
    "Importando bibliotecas"
   ]
  },
  {
   "cell_type": "code",
   "execution_count": 1,
   "id": "b752c905-173a-493b-8b62-3befd1406e39",
   "metadata": {},
   "outputs": [],
   "source": [
    "import pandas as pd\n",
    "from IPython.display import display"
   ]
  },
  {
   "cell_type": "code",
   "execution_count": 2,
   "id": "1016cc53-94e2-4338-9fcc-0d4aabff6a8c",
   "metadata": {},
   "outputs": [
    {
     "name": "stdout",
     "output_type": "stream",
     "text": [
      "        V0001    V0024    UPA_PNS  V0006_PNS  V0015  V0020  V0022  V0026  \\\n",
      "0          11  1110011  110000016          1      1   2019    6.0      1   \n",
      "1          11  1110011  110000016          1      1   2019    6.0      1   \n",
      "2          11  1110011  110000016          1      1   2019    6.0      1   \n",
      "3          11  1110011  110000016          1      1   2019    6.0      1   \n",
      "4          11  1110011  110000016          1      1   2019    6.0      1   \n",
      "...       ...      ...        ...        ...    ...    ...    ...    ...   \n",
      "293721     53  5310220  530044434         14      1   2019    4.0      2   \n",
      "293722     53  5310220  530044434         14      1   2019    4.0      2   \n",
      "293723     53  5310220  530044434         14      1   2019    4.0      2   \n",
      "293724     53  5310220  530044434         14      1   2019    4.0      2   \n",
      "293725     53  5310220  530044434         15      8   2019    NaN      2   \n",
      "\n",
      "        V0031  V0025A  ...  VDE002  VDE014   VDF002  VDF003  VDF004  VDL001  \\\n",
      "0           1     1.0  ...     1.0     6.0   2098.0   350.0     2.0     NaN   \n",
      "1           1     0.0  ...     NaN     NaN   2098.0   350.0     2.0     NaN   \n",
      "2           1     0.0  ...     1.0     4.0   2098.0   350.0     2.0     NaN   \n",
      "3           1     9.0  ...     NaN     NaN   2098.0   350.0     2.0     NaN   \n",
      "4           1     9.0  ...     NaN     NaN   2098.0   350.0     2.0     NaN   \n",
      "...       ...     ...  ...     ...     ...      ...     ...     ...     ...   \n",
      "293721      1     0.0  ...     1.0     1.0  13390.0  3348.0     6.0     NaN   \n",
      "293722      1     1.0  ...     NaN     NaN  13390.0  3348.0     6.0     NaN   \n",
      "293723      1     0.0  ...     1.0     7.0  13390.0  3348.0     6.0     NaN   \n",
      "293724      1     9.0  ...     NaN     NaN  13390.0  3348.0     6.0     NaN   \n",
      "293725      1     NaN  ...     NaN     NaN      NaN     NaN     NaN     NaN   \n",
      "\n",
      "        VDM001  VDP001  VDR001    VDDATA  \n",
      "0          NaN     NaN     NaN  20210825  \n",
      "1          NaN     NaN     NaN  20210825  \n",
      "2          NaN     NaN     NaN  20210825  \n",
      "3          NaN     NaN     NaN  20210825  \n",
      "4          NaN     NaN     NaN  20210825  \n",
      "...        ...     ...     ...       ...  \n",
      "293721     NaN     NaN     NaN  20210825  \n",
      "293722     NaN     NaN     NaN  20210825  \n",
      "293723     NaN     NaN     NaN  20210825  \n",
      "293724     NaN     NaN     NaN  20210825  \n",
      "293725     NaN     NaN     NaN  20210825  \n",
      "\n",
      "[293726 rows x 1087 columns]\n"
     ]
    }
   ],
   "source": [
    "# Importando os dados da PNS 2019\n",
    "df = pd.read_csv(\"C:/Users/pdaniel/Learning/pns2019.csv\")\n",
    "print(df)"
   ]
  },
  {
   "attachments": {},
   "cell_type": "markdown",
   "id": "47a605b3",
   "metadata": {},
   "source": [
    "Definindo o dicionario das variaveis"
   ]
  },
  {
   "cell_type": "code",
   "execution_count": null,
   "id": "097a7e7f",
   "metadata": {},
   "outputs": [],
   "source": [
    "#Unidade da Federacao\n",
    "uf = {\n",
    "    11: 'Rondônia',\n",
    "    12: 'Acre',\n",
    "    13: 'Amazonas',\n",
    "    14: 'Roraima',\n",
    "    15: 'Pará',\n",
    "    16: 'Amapá',\n",
    "    17: 'Tocantins',\n",
    "    21: 'Maranhão',\n",
    "    22: 'Piauí',\n",
    "    23: 'Ceará',\n",
    "    24: 'Rio Grande do Norte',\n",
    "    25: 'Paraíba',\n",
    "    26: 'Pernambuco',\n",
    "    27: 'Alagoas',\n",
    "    28: 'Sergipe',\n",
    "    29: 'Bahia',\n",
    "    31: 'Minas Gerais',\n",
    "    32: 'Espírito Santo',\n",
    "    33: 'Rio de Janeiro',\n",
    "    35: 'São Paulo',\n",
    "    41: 'Paraná',\n",
    "    42: 'Santa Catarina',\n",
    "    43: 'Rio Grande do Sul',\n",
    "    50: 'Mato Grosso do Sul',\n",
    "    51: 'Mato Grosso',\n",
    "    52: 'Goiás',\n",
    "    53: 'Distrito Federal'\n",
    "}\n"
   ]
  }
 ],
 "metadata": {
  "kernelspec": {
   "display_name": "Python 3 (ipykernel)",
   "language": "python",
   "name": "python3"
  },
  "language_info": {
   "codemirror_mode": {
    "name": "ipython",
    "version": 3
   },
   "file_extension": ".py",
   "mimetype": "text/x-python",
   "name": "python",
   "nbconvert_exporter": "python",
   "pygments_lexer": "ipython3",
   "version": "3.11.8"
  }
 },
 "nbformat": 4,
 "nbformat_minor": 5
}
