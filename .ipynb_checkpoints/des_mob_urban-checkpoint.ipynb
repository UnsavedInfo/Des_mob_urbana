{
 "cells": [
  {
   "attachments": {},
   "cell_type": "markdown",
   "id": "41ffbea2-c083-4c1f-884a-1def170865f9",
   "metadata": {},
   "source": [
    "# Desigualdades na Mobilidade Urbana no Brasil {.unnumbered}\r\n"
   ]
  },
  {
   "cell_type": "markdown",
   "id": "350d7e83-bf07-4d95-9a49-e4f3182dcffb",
   "metadata": {},
   "source": [
    "## Glossário {-}"
   ]
  },
  {
   "cell_type": "markdown",
   "id": "ccd7ea82-c851-479e-86eb-ae1afa876614",
   "metadata": {},
   "source": [
    "### 1. Viagens longas e qualidade de vida {-}"
   ]
  },
  {
   "cell_type": "markdown",
   "id": "d147bd54-935a-462a-a582-bea7f374ffe4",
   "metadata": {},
   "source": [
    "Introdução: Por que o tempo de deslocamento casa-trabalho é importante? "
   ]
  },
  {
   "cell_type": "markdown",
   "id": "ddad283f-c3f3-40dc-9967-edd7649fb6af",
   "metadata": {},
   "source": [
    "### 2. Importação de Dados {-}\n",
    "\n",
    "Visão geral das fontes de dados e do processo de importação."
   ]
  },
  {
   "cell_type": "markdown",
   "id": "14f5b374-3645-4b77-aad1-282c40a5054c",
   "metadata": {},
   "source": [
    "### 3. Limpeza de Dados {-}\n",
    "\n",
    "Tratamento dos dados para garantir a qualidade e a confiabilidade da análise."
   ]
  },
  {
   "cell_type": "markdown",
   "id": "9018dfee-b8c8-4456-8145-0029dd7c43db",
   "metadata": {},
   "source": [
    "### 4. Análise dos Dados {-}\n",
    "\n",
    "Visualização e interpretação dos dados."
   ]
  },
  {
   "cell_type": "markdown",
   "id": "97aa05c6-a84e-4435-bf4a-95f4d95b94db",
   "metadata": {},
   "source": [
    "### 5. Conclusão {-}\n",
    "\n",
    "Considerações finais e sugestão para futuras análises."
   ]
  },
  {
   "cell_type": "markdown",
   "id": "4be1d381-e66d-4e7e-b2dc-b5d98be89a6b",
   "metadata": {},
   "source": [
    "### 6. Referências {-}"
   ]
  },
  {
   "cell_type": "markdown",
   "id": "611b1d70-2e0c-481a-97ac-f872d0ee2d41",
   "metadata": {},
   "source": [
    "## Viagens longas e qualidade de vida {-}"
   ]
  },
  {
   "cell_type": "markdown",
   "id": "a6c0f170-4d13-414a-ae8b-5f7f16f1488a",
   "metadata": {},
   "source": [
    "Estudos mostram que viagens longas para o trabalho estão associadas a maiores níveis de fadiga, estresse, má qualidade de saúde mental, tensão muscular e baixa satisfação com o trabalho [1]. Além disso, enfrentar longos engarrafamentos pode afetar negativamente a satisfação econômica [2]. Viagens longas também podem estar associadas a padrões comportamentais que, ao longo do tempo, contribuem para a obesidade e outros indicadores de má qualidade de saúde [3].\n",
    "\n",
    "O objetivo desta análise é identificar quão desigual é o tempo médio de deslocamento casa-trabalho dos trabalhadores no Brasil. Para isso, utilizo os dados da PNS (Pesquisa Nacional de Saúde) de 2019 realizada pelo IBGE [5], o índice PNT (People Near Transit) do ITDP (Instituto de Políticas de Transporte e Desenvolvimento) [6] retirado da Mobilidados [7] e, para comparação, utilizo os dados do Eurostat (Gabinete de Estatísticas da União Europeia).\""
   ]
  },
  {
   "cell_type": "markdown",
   "id": "7e133db3-8e67-45f7-8d5e-0fd15df7bb83",
   "metadata": {},
   "source": [
    "## Importando os dados {-}"
   ]
  },
  {
   "cell_type": "code",
   "execution_count": 1,
   "id": "b752c905-173a-493b-8b62-3befd1406e39",
   "metadata": {},
   "outputs": [],
   "source": [
    "# Importação das bibliotecas   \n",
    "import pandas as pd\n",
    "from IPython.display import display\n",
    "import matplotlib.pyplot as plt\n",
    "import matplotlib.ticker as mticker\n",
    "import matplotlib.colors as mcolors\n",
    "import matplotlib.cm as cm\n",
    "from matplotlib.colors import LinearSegmentedColormap\n",
    "import numpy as np\n",
    "import squarify\n"
   ]
  },
  {
   "cell_type": "markdown",
   "id": "7d60138a-608f-4543-9a1a-7444ae5c5f25",
   "metadata": {},
   "source": [
    "Importando os dados da PNS 2019, Eurostat e do índice PNT."
   ]
  },
  {
   "cell_type": "code",
   "execution_count": 2,
   "id": "1016cc53-94e2-4338-9fcc-0d4aabff6a8c",
   "metadata": {
    "scrolled": true
   },
   "outputs": [],
   "source": [
    "pns_df_original = pd.read_csv(\"C:/Users/pdaniel/Learning/pns2019.csv\")\n",
    "euro_df = pd.read_excel(\"C:/Users/pdaniel/Learning/commute_time_europe.xlsx\")\n",
    "pnt_df = pd.read_excel(\"C:/Users/pdaniel/Learning/pnt_pessoas_proximas.xlsx\", sheet_name = \"PNT_RM\", skiprows = 2)"
   ]
  },
  {
   "cell_type": "markdown",
   "id": "48ebd95a-2c9b-4a05-830b-d252e44af301",
   "metadata": {},
   "source": [
    "## Limpeza dos dados {-}"
   ]
  },
  {
   "cell_type": "markdown",
   "id": "2728b58d-f09e-4907-b655-a0a1e5c829e4",
   "metadata": {},
   "source": [
    "### Tratando os dados da PNS 2019 {-}"
   ]
  },
  {
   "attachments": {},
   "cell_type": "markdown",
   "id": "47a605b3",
   "metadata": {},
   "source": [
    "O dataset da PNS é composta por códigos indicando as perguntas e respostas de cada cidadão entrevistado. O princiopal objetivo dessa seção é separar as informações úteis para a análise e converter os códigos de acordo com as informações fornecidas no dicionário da PNS 2019 [9]  \n",
    "\n",
    "Alguns códigos utlizados na PNS:\n",
    "* V0001 - Unidade da federação.\n",
    "* M00402 - Quanto tempo em minutos o(a) Sr(a) gasta, normalmente, por dia, no deslocamento para o(s) seu(s) trabalho(s), considerando ida e volta. (somente pessoas empregadas) (Resposta em minutos) \n",
    "* M00401 - Quanto tempo em horas o(a) Sr(a) gasta(va), normalmente, por dia, no deslocamento para o(s) seu(s) trabalho(s), considerando ida e volta. (somente pessoas empregadas) (Respota em horas)\n",
    "* V0026 - Tipo de situação censitária (Urbano ou Rural).\n",
    "* VDF004 -Faixa de rendimento domiciliar per capita (exclusive o rendimento das pessoas cuja condição na unidade domiciliar era pensionista, empregado doméstico ou parente do empregado doméstico)\r",
    "* C009 > Cor ou raça\n"
   ]
  },
  {
   "cell_type": "code",
   "execution_count": 3,
   "id": "7af0a796-cb1e-4ac5-95e3-be54fda2d395",
   "metadata": {},
   "outputs": [
    {
     "data": {
      "text/plain": [
       "'Dataframe antes: '"
      ]
     },
     "metadata": {},
     "output_type": "display_data"
    },
    {
     "data": {
      "text/html": [
       "<div>\n",
       "<style scoped>\n",
       "    .dataframe tbody tr th:only-of-type {\n",
       "        vertical-align: middle;\n",
       "    }\n",
       "\n",
       "    .dataframe tbody tr th {\n",
       "        vertical-align: top;\n",
       "    }\n",
       "\n",
       "    .dataframe thead th {\n",
       "        text-align: right;\n",
       "    }\n",
       "</style>\n",
       "<table border=\"1\" class=\"dataframe\">\n",
       "  <thead>\n",
       "    <tr style=\"text-align: right;\">\n",
       "      <th></th>\n",
       "      <th>V0001</th>\n",
       "      <th>V0024</th>\n",
       "      <th>UPA_PNS</th>\n",
       "      <th>V0006_PNS</th>\n",
       "      <th>...</th>\n",
       "      <th>VDM001</th>\n",
       "      <th>VDP001</th>\n",
       "      <th>VDR001</th>\n",
       "      <th>VDDATA</th>\n",
       "    </tr>\n",
       "  </thead>\n",
       "  <tbody>\n",
       "    <tr>\n",
       "      <th>0</th>\n",
       "      <td>11</td>\n",
       "      <td>1110011</td>\n",
       "      <td>110000016</td>\n",
       "      <td>1</td>\n",
       "      <td>...</td>\n",
       "      <td>NaN</td>\n",
       "      <td>NaN</td>\n",
       "      <td>NaN</td>\n",
       "      <td>20210825</td>\n",
       "    </tr>\n",
       "    <tr>\n",
       "      <th>1</th>\n",
       "      <td>11</td>\n",
       "      <td>1110011</td>\n",
       "      <td>110000016</td>\n",
       "      <td>1</td>\n",
       "      <td>...</td>\n",
       "      <td>NaN</td>\n",
       "      <td>NaN</td>\n",
       "      <td>NaN</td>\n",
       "      <td>20210825</td>\n",
       "    </tr>\n",
       "    <tr>\n",
       "      <th>2</th>\n",
       "      <td>11</td>\n",
       "      <td>1110011</td>\n",
       "      <td>110000016</td>\n",
       "      <td>1</td>\n",
       "      <td>...</td>\n",
       "      <td>NaN</td>\n",
       "      <td>NaN</td>\n",
       "      <td>NaN</td>\n",
       "      <td>20210825</td>\n",
       "    </tr>\n",
       "    <tr>\n",
       "      <th>3</th>\n",
       "      <td>11</td>\n",
       "      <td>1110011</td>\n",
       "      <td>110000016</td>\n",
       "      <td>1</td>\n",
       "      <td>...</td>\n",
       "      <td>NaN</td>\n",
       "      <td>NaN</td>\n",
       "      <td>NaN</td>\n",
       "      <td>20210825</td>\n",
       "    </tr>\n",
       "    <tr>\n",
       "      <th>...</th>\n",
       "      <td>...</td>\n",
       "      <td>...</td>\n",
       "      <td>...</td>\n",
       "      <td>...</td>\n",
       "      <td>...</td>\n",
       "      <td>...</td>\n",
       "      <td>...</td>\n",
       "      <td>...</td>\n",
       "      <td>...</td>\n",
       "    </tr>\n",
       "    <tr>\n",
       "      <th>293722</th>\n",
       "      <td>53</td>\n",
       "      <td>5310220</td>\n",
       "      <td>530044434</td>\n",
       "      <td>14</td>\n",
       "      <td>...</td>\n",
       "      <td>NaN</td>\n",
       "      <td>NaN</td>\n",
       "      <td>NaN</td>\n",
       "      <td>20210825</td>\n",
       "    </tr>\n",
       "    <tr>\n",
       "      <th>293723</th>\n",
       "      <td>53</td>\n",
       "      <td>5310220</td>\n",
       "      <td>530044434</td>\n",
       "      <td>14</td>\n",
       "      <td>...</td>\n",
       "      <td>NaN</td>\n",
       "      <td>NaN</td>\n",
       "      <td>NaN</td>\n",
       "      <td>20210825</td>\n",
       "    </tr>\n",
       "    <tr>\n",
       "      <th>293724</th>\n",
       "      <td>53</td>\n",
       "      <td>5310220</td>\n",
       "      <td>530044434</td>\n",
       "      <td>14</td>\n",
       "      <td>...</td>\n",
       "      <td>NaN</td>\n",
       "      <td>NaN</td>\n",
       "      <td>NaN</td>\n",
       "      <td>20210825</td>\n",
       "    </tr>\n",
       "    <tr>\n",
       "      <th>293725</th>\n",
       "      <td>53</td>\n",
       "      <td>5310220</td>\n",
       "      <td>530044434</td>\n",
       "      <td>15</td>\n",
       "      <td>...</td>\n",
       "      <td>NaN</td>\n",
       "      <td>NaN</td>\n",
       "      <td>NaN</td>\n",
       "      <td>20210825</td>\n",
       "    </tr>\n",
       "  </tbody>\n",
       "</table>\n",
       "<p>293726 rows × 1087 columns</p>\n",
       "</div>"
      ],
      "text/plain": [
       "        V0001    V0024    UPA_PNS  V0006_PNS  ...  VDM001  VDP001  VDR001  \\\n",
       "0          11  1110011  110000016          1  ...     NaN     NaN     NaN   \n",
       "1          11  1110011  110000016          1  ...     NaN     NaN     NaN   \n",
       "2          11  1110011  110000016          1  ...     NaN     NaN     NaN   \n",
       "3          11  1110011  110000016          1  ...     NaN     NaN     NaN   \n",
       "...       ...      ...        ...        ...  ...     ...     ...     ...   \n",
       "293722     53  5310220  530044434         14  ...     NaN     NaN     NaN   \n",
       "293723     53  5310220  530044434         14  ...     NaN     NaN     NaN   \n",
       "293724     53  5310220  530044434         14  ...     NaN     NaN     NaN   \n",
       "293725     53  5310220  530044434         15  ...     NaN     NaN     NaN   \n",
       "\n",
       "          VDDATA  \n",
       "0       20210825  \n",
       "1       20210825  \n",
       "2       20210825  \n",
       "3       20210825  \n",
       "...          ...  \n",
       "293722  20210825  \n",
       "293723  20210825  \n",
       "293724  20210825  \n",
       "293725  20210825  \n",
       "\n",
       "[293726 rows x 1087 columns]"
      ]
     },
     "metadata": {},
     "output_type": "display_data"
    },
    {
     "data": {
      "text/plain": [
       "'Dataframe depois: '"
      ]
     },
     "metadata": {},
     "output_type": "display_data"
    },
    {
     "data": {
      "text/html": [
       "<div>\n",
       "<style scoped>\n",
       "    .dataframe tbody tr th:only-of-type {\n",
       "        vertical-align: middle;\n",
       "    }\n",
       "\n",
       "    .dataframe tbody tr th {\n",
       "        vertical-align: top;\n",
       "    }\n",
       "\n",
       "    .dataframe thead th {\n",
       "        text-align: right;\n",
       "    }\n",
       "</style>\n",
       "<table border=\"1\" class=\"dataframe\">\n",
       "  <thead>\n",
       "    <tr style=\"text-align: right;\">\n",
       "      <th></th>\n",
       "      <th>uf</th>\n",
       "      <th>tempo_des_casa_trab_min</th>\n",
       "      <th>tempo_des_casa_trab_hr</th>\n",
       "      <th>localidade</th>\n",
       "      <th>renda_per_capta</th>\n",
       "      <th>cor_raca</th>\n",
       "      <th>tempo_des_total_min</th>\n",
       "    </tr>\n",
       "  </thead>\n",
       "  <tbody>\n",
       "    <tr>\n",
       "      <th>10</th>\n",
       "      <td>Rondônia</td>\n",
       "      <td>15.0</td>\n",
       "      <td>120.0</td>\n",
       "      <td>Urbano</td>\n",
       "      <td>Mais de 0,5 até 1 salário mínimo</td>\n",
       "      <td>Preta</td>\n",
       "      <td>135.0</td>\n",
       "    </tr>\n",
       "    <tr>\n",
       "      <th>18</th>\n",
       "      <td>Rondônia</td>\n",
       "      <td>3.0</td>\n",
       "      <td>0.0</td>\n",
       "      <td>Urbano</td>\n",
       "      <td>Mais de 0,25 até 0,5 salário mínimo</td>\n",
       "      <td>Preta</td>\n",
       "      <td>3.0</td>\n",
       "    </tr>\n",
       "    <tr>\n",
       "      <th>22</th>\n",
       "      <td>Rondônia</td>\n",
       "      <td>0.0</td>\n",
       "      <td>60.0</td>\n",
       "      <td>Urbano</td>\n",
       "      <td>Mais de 1 até 2 salários mínimos</td>\n",
       "      <td>Parda</td>\n",
       "      <td>60.0</td>\n",
       "    </tr>\n",
       "    <tr>\n",
       "      <th>29</th>\n",
       "      <td>Rondônia</td>\n",
       "      <td>20.0</td>\n",
       "      <td>0.0</td>\n",
       "      <td>Urbano</td>\n",
       "      <td>Mais de 0,5 até 1 salário mínimo</td>\n",
       "      <td>Parda</td>\n",
       "      <td>20.0</td>\n",
       "    </tr>\n",
       "    <tr>\n",
       "      <th>...</th>\n",
       "      <td>...</td>\n",
       "      <td>...</td>\n",
       "      <td>...</td>\n",
       "      <td>...</td>\n",
       "      <td>...</td>\n",
       "      <td>...</td>\n",
       "      <td>...</td>\n",
       "    </tr>\n",
       "    <tr>\n",
       "      <th>293246</th>\n",
       "      <td>Distrito Federal</td>\n",
       "      <td>0.0</td>\n",
       "      <td>120.0</td>\n",
       "      <td>Urbano</td>\n",
       "      <td>Mais de 1 até 2 salários mínimos</td>\n",
       "      <td>Parda</td>\n",
       "      <td>120.0</td>\n",
       "    </tr>\n",
       "    <tr>\n",
       "      <th>293247</th>\n",
       "      <td>Distrito Federal</td>\n",
       "      <td>20.0</td>\n",
       "      <td>0.0</td>\n",
       "      <td>Urbano</td>\n",
       "      <td>Mais de 1 até 2 salários mínimos</td>\n",
       "      <td>Parda</td>\n",
       "      <td>20.0</td>\n",
       "    </tr>\n",
       "    <tr>\n",
       "      <th>293252</th>\n",
       "      <td>Distrito Federal</td>\n",
       "      <td>10.0</td>\n",
       "      <td>0.0</td>\n",
       "      <td>Urbano</td>\n",
       "      <td>Mais de 0,5 até 1 salário mínimo</td>\n",
       "      <td>Parda</td>\n",
       "      <td>10.0</td>\n",
       "    </tr>\n",
       "    <tr>\n",
       "      <th>293255</th>\n",
       "      <td>Distrito Federal</td>\n",
       "      <td>0.0</td>\n",
       "      <td>120.0</td>\n",
       "      <td>Urbano</td>\n",
       "      <td>Mais de 1 até 2 salários mínimos</td>\n",
       "      <td>Parda</td>\n",
       "      <td>120.0</td>\n",
       "    </tr>\n",
       "  </tbody>\n",
       "</table>\n",
       "<p>35892 rows × 7 columns</p>\n",
       "</div>"
      ],
      "text/plain": [
       "                      uf  tempo_des_casa_trab_min  tempo_des_casa_trab_hr  \\\n",
       "10              Rondônia                     15.0                   120.0   \n",
       "18              Rondônia                      3.0                     0.0   \n",
       "22              Rondônia                      0.0                    60.0   \n",
       "29              Rondônia                     20.0                     0.0   \n",
       "...                  ...                      ...                     ...   \n",
       "293246  Distrito Federal                      0.0                   120.0   \n",
       "293247  Distrito Federal                     20.0                     0.0   \n",
       "293252  Distrito Federal                     10.0                     0.0   \n",
       "293255  Distrito Federal                      0.0                   120.0   \n",
       "\n",
       "       localidade                      renda_per_capta cor_raca  \\\n",
       "10         Urbano     Mais de 0,5 até 1 salário mínimo    Preta   \n",
       "18         Urbano  Mais de 0,25 até 0,5 salário mínimo    Preta   \n",
       "22         Urbano     Mais de 1 até 2 salários mínimos    Parda   \n",
       "29         Urbano     Mais de 0,5 até 1 salário mínimo    Parda   \n",
       "...           ...                                  ...      ...   \n",
       "293246     Urbano     Mais de 1 até 2 salários mínimos    Parda   \n",
       "293247     Urbano     Mais de 1 até 2 salários mínimos    Parda   \n",
       "293252     Urbano     Mais de 0,5 até 1 salário mínimo    Parda   \n",
       "293255     Urbano     Mais de 1 até 2 salários mínimos    Parda   \n",
       "\n",
       "        tempo_des_total_min  \n",
       "10                    135.0  \n",
       "18                      3.0  \n",
       "22                     60.0  \n",
       "29                     20.0  \n",
       "...                     ...  \n",
       "293246                120.0  \n",
       "293247                 20.0  \n",
       "293252                 10.0  \n",
       "293255                120.0  \n",
       "\n",
       "[35892 rows x 7 columns]"
      ]
     },
     "metadata": {},
     "output_type": "display_data"
    }
   ],
   "source": [
    "# Crio uma cópia do dataframe\n",
    "pns_df = pns_df_original.copy()\n",
    "\n",
    "# Criando um dicionário com os códigos da UF (V0001)\n",
    "code_to_uf = {11:'Rondônia', 12:'Acre', 13:'Amazonas', 14:'Roraima', 15:'Pará', 16:'Amapá', 17:'Tocantins', 21:'Maranhão', 22:'Piauí', 23:'Ceará',\n",
    "              24:'Rio Grande do Norte', 25:'Paraíba', 26:'Pernambuco', 27:'Alagoas', 28:'Sergipe', 29:'Bahia', 31:'Minas Gerais', 32:'Espírito Santo',\n",
    "              33:'Rio de Janeiro', 35:'São Paulo', 41:'Paraná', 42:'Santa Catarina', 43:'Rio Grande do Sul', 50:'Mato Grosso do Sul', 51:'Mato Grosso',\n",
    "              52:'Goiás', 53:'Distrito Federal'}\n",
    "\n",
    "# Criando um dicionário para converter os códigos de localidade (V0026)\n",
    "code_to_loc = {1:\"Urbano\", 2:\"Rural\"}\n",
    "\n",
    "# Criando um dicionário para converter os códigos pela faixa de rendimento per capita (partes do salário mínimo)\n",
    "rendimento_domiciliar = {1: \"Até 0,25 salário mínimo\", 2: \"Mais de 0,25 até 0,5 salário mínimo\", 3: \"Mais de 0,5 até 1 salário mínimo\",\n",
    "                         4: \"Mais de 1 até 2 salários mínimos\", 5: \"Mais de 2 até 3 salários mínimos\", 6: \"Mais de 3 até 5 salários mínimos\",\n",
    "                         7: \"Mais de 5 salários mínimos\"}\n",
    "\n",
    "# Criando um dincionário para converter os códigos para a cor ou raça dos entrevistados.\n",
    "code_to_race = {1: 'Branca', 2: 'Preta', 3: 'Amarela', 4: 'Parda', 5: 'Indígena', 9: 'Ignorado'}\n",
    "\n",
    "# Renomeando as colunas\n",
    "pns_df.rename(columns={\"V0001\": \"uf\", \"M00402\": \"tempo_des_casa_trab_min\", \"M00401\": \"tempo_des_casa_trab_hr\", \"V0026\": \"localidade\",\n",
    "                       \"VDF004\": \"renda_per_capta\", \"C009\": \"cor_raca\"}, inplace=True)\n",
    "\n",
    "# Convertendo os códigos dos UFs\n",
    "pns_df[\"uf\"] = pns_df[\"uf\"].map(code_to_uf)\n",
    "\n",
    "# Convertendo os códigos das localidadews\n",
    "pns_df[\"localidade\"] = pns_df[\"localidade\"].map(code_to_loc)\n",
    "\n",
    "# Convertendo os códigos de rendimento domiciliar per capta\n",
    "pns_df[\"renda_per_capta\"] = pns_df[\"renda_per_capta\"].map(rendimento_domiciliar)\n",
    "\n",
    "# Convertendo os códigos da cor ou raça do entrevistado.\n",
    "pns_df[\"cor_raca\"] = pns_df[\"cor_raca\"].map(code_to_race)\n",
    "\n",
    "# Filtrando os o dataframe para desconsiderar as entrevistas em que a cor/raça foi ignorada\n",
    "pns_df = pns_df[pns_df['cor_raca'] != \"Ignorado\"]\n",
    "\n",
    "# Filtrando o dataframe somente com as entrevistas de moradores da área urbana.\n",
    "pns_df = pns_df[pns_df[\"localidade\"] == \"Urbano\"]\n",
    "\n",
    "# Transformo o tempo da coluna 'tempo_des_casa_trab_hr' de hora para minutos\n",
    "pns_df[\"tempo_des_casa_trab_hr\"] = pns_df[\"tempo_des_casa_trab_hr\"]*60\n",
    "\n",
    "# Crio uma outra coluna para somar o tempo das 'tempo_des_casa_trab_hr' e tempo_des_casa_trab_min' e ter o tempo de deslocamento total\n",
    "pns_df[\"tempo_des_total_min\"] = pns_df[\"tempo_des_casa_trab_hr\"] + pns_df[\"tempo_des_casa_trab_min\"]\n",
    "\n",
    "# Filtro o dataframe somente com as colunas importantes\n",
    "pns_df = pns_df[[\"uf\", \"tempo_des_casa_trab_min\", \"tempo_des_casa_trab_hr\", \"localidade\", \"renda_per_capta\", \"cor_raca\", \"tempo_des_total_min\"]]\n",
    "\n",
    "# Remove valores nulos\n",
    "pns_df.dropna(inplace = True)\n",
    "\n",
    "# Limito a visualização para no máximo 8 linhas e 8 colunas\n",
    "pd.set_option('display.max_rows', 8)\n",
    "pd.set_option('display.max_columns', 8)\n",
    "\n",
    "display(\"Dataframe antes: \", pns_df_original, \"Dataframe depois: \", pns_df)"
   ]
  },
  {
   "cell_type": "markdown",
   "id": "e118cba3-5e40-4ad2-bd14-ec65afbc3e17",
   "metadata": {},
   "source": [
    "### Tratando os dados da Eurostat {-}"
   ]
  },
  {
   "cell_type": "markdown",
   "id": "d34ea81e-d399-4691-886c-a423d6a75540",
   "metadata": {},
   "source": [
    "Aqui, estou utilizando um conjunto de dados previamente filtrado da Eurostat [10], que inclui o tempo médio de deslocamento casa-trabalho de trabalhadores em regiões urbanas da Europa.\r\n",
    "\r\n",
    "Nesta seção, estou traduzindo os nomes dos países para o português, excluindo os itens \"Euro area\", \"European Union\" e \"Turkey\" do conjunto de dados, e multiplicando o tempo por dois (a Eurostat considera apenas o tempo de ida ao trabalho)."
   ]
  },
  {
   "cell_type": "code",
   "execution_count": 4,
   "id": "1f0ad1db-4f1b-4e93-81dd-9aaed81e0d93",
   "metadata": {
    "scrolled": true
   },
   "outputs": [
    {
     "data": {
      "text/plain": [
       "'Dataframe antes: '"
      ]
     },
     "metadata": {},
     "output_type": "display_data"
    },
    {
     "data": {
      "text/html": [
       "<div>\n",
       "<style scoped>\n",
       "    .dataframe tbody tr th:only-of-type {\n",
       "        vertical-align: middle;\n",
       "    }\n",
       "\n",
       "    .dataframe tbody tr th {\n",
       "        vertical-align: top;\n",
       "    }\n",
       "\n",
       "    .dataframe thead th {\n",
       "        text-align: right;\n",
       "    }\n",
       "</style>\n",
       "<table border=\"1\" class=\"dataframe\">\n",
       "  <thead>\n",
       "    <tr style=\"text-align: right;\">\n",
       "      <th></th>\n",
       "      <th>País</th>\n",
       "      <th>Tempo (min)</th>\n",
       "    </tr>\n",
       "  </thead>\n",
       "  <tbody>\n",
       "    <tr>\n",
       "      <th>0</th>\n",
       "      <td>European Union - 27 countries (from 2020)</td>\n",
       "      <td>27</td>\n",
       "    </tr>\n",
       "    <tr>\n",
       "      <th>1</th>\n",
       "      <td>European Union - 28 countries (2013-2020)</td>\n",
       "      <td>28</td>\n",
       "    </tr>\n",
       "    <tr>\n",
       "      <th>2</th>\n",
       "      <td>Euro area - 19 countries  (2015-2022)</td>\n",
       "      <td>27</td>\n",
       "    </tr>\n",
       "    <tr>\n",
       "      <th>3</th>\n",
       "      <td>Belgium</td>\n",
       "      <td>28</td>\n",
       "    </tr>\n",
       "    <tr>\n",
       "      <th>...</th>\n",
       "      <td>...</td>\n",
       "      <td>...</td>\n",
       "    </tr>\n",
       "    <tr>\n",
       "      <th>31</th>\n",
       "      <td>Norway</td>\n",
       "      <td>26</td>\n",
       "    </tr>\n",
       "    <tr>\n",
       "      <th>32</th>\n",
       "      <td>Switzerland</td>\n",
       "      <td>27</td>\n",
       "    </tr>\n",
       "    <tr>\n",
       "      <th>33</th>\n",
       "      <td>United Kingdom</td>\n",
       "      <td>30</td>\n",
       "    </tr>\n",
       "    <tr>\n",
       "      <th>34</th>\n",
       "      <td>Türkiye</td>\n",
       "      <td>:</td>\n",
       "    </tr>\n",
       "  </tbody>\n",
       "</table>\n",
       "<p>35 rows × 2 columns</p>\n",
       "</div>"
      ],
      "text/plain": [
       "                                         País Tempo (min)\n",
       "0   European Union - 27 countries (from 2020)          27\n",
       "1   European Union - 28 countries (2013-2020)          28\n",
       "2       Euro area - 19 countries  (2015-2022)          27\n",
       "3                                     Belgium          28\n",
       "..                                        ...         ...\n",
       "31                                     Norway          26\n",
       "32                                Switzerland          27\n",
       "33                             United Kingdom          30\n",
       "34                                    Türkiye           :\n",
       "\n",
       "[35 rows x 2 columns]"
      ]
     },
     "metadata": {},
     "output_type": "display_data"
    },
    {
     "data": {
      "text/plain": [
       "'Dataframe depois: '"
      ]
     },
     "metadata": {},
     "output_type": "display_data"
    },
    {
     "data": {
      "text/html": [
       "<div>\n",
       "<style scoped>\n",
       "    .dataframe tbody tr th:only-of-type {\n",
       "        vertical-align: middle;\n",
       "    }\n",
       "\n",
       "    .dataframe tbody tr th {\n",
       "        vertical-align: top;\n",
       "    }\n",
       "\n",
       "    .dataframe thead th {\n",
       "        text-align: right;\n",
       "    }\n",
       "</style>\n",
       "<table border=\"1\" class=\"dataframe\">\n",
       "  <thead>\n",
       "    <tr style=\"text-align: right;\">\n",
       "      <th></th>\n",
       "      <th>País</th>\n",
       "      <th>Tempo (min)</th>\n",
       "    </tr>\n",
       "  </thead>\n",
       "  <tbody>\n",
       "    <tr>\n",
       "      <th>3</th>\n",
       "      <td>Bélgica</td>\n",
       "      <td>56</td>\n",
       "    </tr>\n",
       "    <tr>\n",
       "      <th>4</th>\n",
       "      <td>Bulgária</td>\n",
       "      <td>56</td>\n",
       "    </tr>\n",
       "    <tr>\n",
       "      <th>5</th>\n",
       "      <td>República Tcheca</td>\n",
       "      <td>60</td>\n",
       "    </tr>\n",
       "    <tr>\n",
       "      <th>6</th>\n",
       "      <td>Dinamarca</td>\n",
       "      <td>52</td>\n",
       "    </tr>\n",
       "    <tr>\n",
       "      <th>...</th>\n",
       "      <td>...</td>\n",
       "      <td>...</td>\n",
       "    </tr>\n",
       "    <tr>\n",
       "      <th>30</th>\n",
       "      <td>Islândia</td>\n",
       "      <td>30</td>\n",
       "    </tr>\n",
       "    <tr>\n",
       "      <th>31</th>\n",
       "      <td>Noruega</td>\n",
       "      <td>52</td>\n",
       "    </tr>\n",
       "    <tr>\n",
       "      <th>32</th>\n",
       "      <td>Suíça</td>\n",
       "      <td>54</td>\n",
       "    </tr>\n",
       "    <tr>\n",
       "      <th>33</th>\n",
       "      <td>Reino Unido</td>\n",
       "      <td>60</td>\n",
       "    </tr>\n",
       "  </tbody>\n",
       "</table>\n",
       "<p>31 rows × 2 columns</p>\n",
       "</div>"
      ],
      "text/plain": [
       "                País Tempo (min)\n",
       "3            Bélgica          56\n",
       "4           Bulgária          56\n",
       "5   República Tcheca          60\n",
       "6          Dinamarca          52\n",
       "..               ...         ...\n",
       "30          Islândia          30\n",
       "31           Noruega          52\n",
       "32             Suíça          54\n",
       "33       Reino Unido          60\n",
       "\n",
       "[31 rows x 2 columns]"
      ]
     },
     "metadata": {},
     "output_type": "display_data"
    }
   ],
   "source": [
    "# Cria um novo dataframe filtrado\n",
    "filtred_euro_df = euro_df[3:-1].copy() \n",
    "\n",
    "# Cria um dincionário para traduzir o nome dos países.\n",
    "traducoes = {'Belgium': 'Bélgica', 'Bulgaria': 'Bulgária', 'Czechia': 'República Tcheca', 'Denmark': 'Dinamarca', 'Germany': 'Alemanha',\n",
    "             'Estonia': 'Estônia', 'Ireland': 'Irlanda', 'Greece': 'Grécia', 'Spain': 'Espanha', 'France': 'França', 'Croatia': 'Croácia',\n",
    "             'Italy': 'Itália', 'Cyprus': 'Chipre', 'Latvia': 'Letônia', 'Lithuania': 'Lituânia', 'Luxembourg': 'Luxemburgo', 'Hungary': 'Hungria',\n",
    "             'Malta': 'Malta', 'Netherlands': 'Países Baixos', 'Austria': 'Áustria', 'Poland': 'Polônia', 'Portugal': 'Portugal', 'Romania': 'Romênia',\n",
    "             'Slovenia': 'Eslovênia', 'Slovakia': 'Eslováquia', 'Finland': 'Finlândia', 'Sweden': 'Suécia', 'Iceland': 'Islândia', 'Norway': 'Noruega',\n",
    "             'Switzerland': 'Suíça', 'United Kingdom': 'Reino Unido'}\n",
    "\n",
    "# Traduzindo o nome dos países\n",
    "filtred_euro_df['País'] = filtred_euro_df['País'].map(traducoes)\n",
    "\n",
    "# Multiplico o tempo por dois para ter o tempo de ida e volta.\n",
    "filtred_euro_df[\"Tempo (min)\"] = filtred_euro_df[\"Tempo (min)\"]*2 \n",
    "\n",
    "display('Dataframe antes: ', euro_df, \"Dataframe depois: \", filtred_euro_df)"
   ]
  },
  {
   "cell_type": "markdown",
   "id": "f95bca96-bd68-44ff-a55e-8689d4a0cd3e",
   "metadata": {},
   "source": [
    "### Tratando os dados do indicador PNT {-}"
   ]
  },
  {
   "cell_type": "markdown",
   "id": "963cd0b8-db56-42a3-83a6-cce09b9d6ece",
   "metadata": {},
   "source": [
    "Aqui, separo as informações do dataset que serão úteis para a minha análise. Nesse caso, o indicador \"PNT Geral\", \"UF\" e \"2019\", que indica os valores de PNT no ano de 2019.\n",
    "O dataset utilizado contém somente os estados mais populosos e o Distrtito Federal."
   ]
  },
  {
   "cell_type": "code",
   "execution_count": 5,
   "id": "cf13938c-5d54-4a7f-b827-1774760674c8",
   "metadata": {},
   "outputs": [
    {
     "data": {
      "text/plain": [
       "'Dataframe antes: '"
      ]
     },
     "metadata": {},
     "output_type": "display_data"
    },
    {
     "data": {
      "text/html": [
       "<div>\n",
       "<style scoped>\n",
       "    .dataframe tbody tr th:only-of-type {\n",
       "        vertical-align: middle;\n",
       "    }\n",
       "\n",
       "    .dataframe tbody tr th {\n",
       "        vertical-align: top;\n",
       "    }\n",
       "\n",
       "    .dataframe thead th {\n",
       "        text-align: right;\n",
       "    }\n",
       "</style>\n",
       "<table border=\"1\" class=\"dataframe\">\n",
       "  <thead>\n",
       "    <tr style=\"text-align: right;\">\n",
       "      <th></th>\n",
       "      <th>CD_UF</th>\n",
       "      <th>UF</th>\n",
       "      <th>REGIAO METROPOLITANA</th>\n",
       "      <th>ID</th>\n",
       "      <th>...</th>\n",
       "      <th>2018</th>\n",
       "      <th>2019</th>\n",
       "      <th>2020</th>\n",
       "      <th>2021</th>\n",
       "    </tr>\n",
       "  </thead>\n",
       "  <tbody>\n",
       "    <tr>\n",
       "      <th>0</th>\n",
       "      <td>15</td>\n",
       "      <td>PA</td>\n",
       "      <td>BELEM</td>\n",
       "      <td>1</td>\n",
       "      <td>...</td>\n",
       "      <td>0.05</td>\n",
       "      <td>0.09</td>\n",
       "      <td>0.09</td>\n",
       "      <td>0.09</td>\n",
       "    </tr>\n",
       "    <tr>\n",
       "      <th>1</th>\n",
       "      <td>15</td>\n",
       "      <td>PA</td>\n",
       "      <td>BELEM</td>\n",
       "      <td>2</td>\n",
       "      <td>...</td>\n",
       "      <td>0.03</td>\n",
       "      <td>0.06</td>\n",
       "      <td>0.06</td>\n",
       "      <td>0.06</td>\n",
       "    </tr>\n",
       "    <tr>\n",
       "      <th>2</th>\n",
       "      <td>15</td>\n",
       "      <td>PA</td>\n",
       "      <td>BELEM</td>\n",
       "      <td>3</td>\n",
       "      <td>...</td>\n",
       "      <td>0.05</td>\n",
       "      <td>0.08</td>\n",
       "      <td>0.08</td>\n",
       "      <td>0.08</td>\n",
       "    </tr>\n",
       "    <tr>\n",
       "      <th>3</th>\n",
       "      <td>15</td>\n",
       "      <td>PA</td>\n",
       "      <td>BELEM</td>\n",
       "      <td>4</td>\n",
       "      <td>...</td>\n",
       "      <td>0.08</td>\n",
       "      <td>0.13</td>\n",
       "      <td>0.13</td>\n",
       "      <td>0.13</td>\n",
       "    </tr>\n",
       "    <tr>\n",
       "      <th>...</th>\n",
       "      <td>...</td>\n",
       "      <td>...</td>\n",
       "      <td>...</td>\n",
       "      <td>...</td>\n",
       "      <td>...</td>\n",
       "      <td>...</td>\n",
       "      <td>...</td>\n",
       "      <td>...</td>\n",
       "      <td>...</td>\n",
       "    </tr>\n",
       "    <tr>\n",
       "      <th>59</th>\n",
       "      <td>35</td>\n",
       "      <td>SP</td>\n",
       "      <td>SÃO PAULO</td>\n",
       "      <td>4</td>\n",
       "      <td>...</td>\n",
       "      <td>0.14</td>\n",
       "      <td>0.15</td>\n",
       "      <td>0.15</td>\n",
       "      <td>0.15</td>\n",
       "    </tr>\n",
       "    <tr>\n",
       "      <th>60</th>\n",
       "      <td>35</td>\n",
       "      <td>SP</td>\n",
       "      <td>SÃO PAULO</td>\n",
       "      <td>5</td>\n",
       "      <td>...</td>\n",
       "      <td>0.30</td>\n",
       "      <td>0.31</td>\n",
       "      <td>0.31</td>\n",
       "      <td>0.31</td>\n",
       "    </tr>\n",
       "    <tr>\n",
       "      <th>61</th>\n",
       "      <td>35</td>\n",
       "      <td>SP</td>\n",
       "      <td>SÃO PAULO</td>\n",
       "      <td>6</td>\n",
       "      <td>...</td>\n",
       "      <td>0.09</td>\n",
       "      <td>0.09</td>\n",
       "      <td>0.09</td>\n",
       "      <td>0.09</td>\n",
       "    </tr>\n",
       "    <tr>\n",
       "      <th>62</th>\n",
       "      <td>35</td>\n",
       "      <td>SP</td>\n",
       "      <td>SÃO PAULO</td>\n",
       "      <td>7</td>\n",
       "      <td>...</td>\n",
       "      <td>0.11</td>\n",
       "      <td>0.12</td>\n",
       "      <td>0.12</td>\n",
       "      <td>0.12</td>\n",
       "    </tr>\n",
       "  </tbody>\n",
       "</table>\n",
       "<p>63 rows × 17 columns</p>\n",
       "</div>"
      ],
      "text/plain": [
       "    CD_UF  UF REGIAO METROPOLITANA  ID  ...  2018  2019  2020  2021\n",
       "0      15  PA                BELEM   1  ...  0.05  0.09  0.09  0.09\n",
       "1      15  PA                BELEM   2  ...  0.03  0.06  0.06  0.06\n",
       "2      15  PA                BELEM   3  ...  0.05  0.08  0.08  0.08\n",
       "3      15  PA                BELEM   4  ...  0.08  0.13  0.13  0.13\n",
       "..    ...  ..                  ...  ..  ...   ...   ...   ...   ...\n",
       "59     35  SP            SÃO PAULO   4  ...  0.14  0.15  0.15  0.15\n",
       "60     35  SP            SÃO PAULO   5  ...  0.30  0.31  0.31  0.31\n",
       "61     35  SP            SÃO PAULO   6  ...  0.09  0.09  0.09  0.09\n",
       "62     35  SP            SÃO PAULO   7  ...  0.11  0.12  0.12  0.12\n",
       "\n",
       "[63 rows x 17 columns]"
      ]
     },
     "metadata": {},
     "output_type": "display_data"
    },
    {
     "data": {
      "text/plain": [
       "'Dataframe depois: '"
      ]
     },
     "metadata": {},
     "output_type": "display_data"
    },
    {
     "data": {
      "text/html": [
       "<div>\n",
       "<style scoped>\n",
       "    .dataframe tbody tr th:only-of-type {\n",
       "        vertical-align: middle;\n",
       "    }\n",
       "\n",
       "    .dataframe tbody tr th {\n",
       "        vertical-align: top;\n",
       "    }\n",
       "\n",
       "    .dataframe thead th {\n",
       "        text-align: right;\n",
       "    }\n",
       "</style>\n",
       "<table border=\"1\" class=\"dataframe\">\n",
       "  <thead>\n",
       "    <tr style=\"text-align: right;\">\n",
       "      <th></th>\n",
       "      <th>UF</th>\n",
       "      <th>2019</th>\n",
       "    </tr>\n",
       "  </thead>\n",
       "  <tbody>\n",
       "    <tr>\n",
       "      <th>0</th>\n",
       "      <td>RJ</td>\n",
       "      <td>19.0</td>\n",
       "    </tr>\n",
       "    <tr>\n",
       "      <th>1</th>\n",
       "      <td>PR</td>\n",
       "      <td>18.0</td>\n",
       "    </tr>\n",
       "    <tr>\n",
       "      <th>2</th>\n",
       "      <td>PE</td>\n",
       "      <td>14.0</td>\n",
       "    </tr>\n",
       "    <tr>\n",
       "      <th>3</th>\n",
       "      <td>SP</td>\n",
       "      <td>13.0</td>\n",
       "    </tr>\n",
       "    <tr>\n",
       "      <th>...</th>\n",
       "      <td>...</td>\n",
       "      <td>...</td>\n",
       "    </tr>\n",
       "    <tr>\n",
       "      <th>5</th>\n",
       "      <td>MG</td>\n",
       "      <td>8.0</td>\n",
       "    </tr>\n",
       "    <tr>\n",
       "      <th>6</th>\n",
       "      <td>CE</td>\n",
       "      <td>8.0</td>\n",
       "    </tr>\n",
       "    <tr>\n",
       "      <th>7</th>\n",
       "      <td>DF</td>\n",
       "      <td>6.0</td>\n",
       "    </tr>\n",
       "    <tr>\n",
       "      <th>8</th>\n",
       "      <td>BA</td>\n",
       "      <td>4.0</td>\n",
       "    </tr>\n",
       "  </tbody>\n",
       "</table>\n",
       "<p>9 rows × 2 columns</p>\n",
       "</div>"
      ],
      "text/plain": [
       "    UF  2019\n",
       "0   RJ  19.0\n",
       "1   PR  18.0\n",
       "2   PE  14.0\n",
       "3   SP  13.0\n",
       "..  ..   ...\n",
       "5   MG   8.0\n",
       "6   CE   8.0\n",
       "7   DF   6.0\n",
       "8   BA   4.0\n",
       "\n",
       "[9 rows x 2 columns]"
      ]
     },
     "metadata": {},
     "output_type": "display_data"
    }
   ],
   "source": [
    "#Filtrando os resultados somente para o indicador \"PNT GERAL\"\n",
    "pnt_df_filtrado = pnt_df[pnt_df[\"INDICADOR\"] == \"PNT_Geral\"].copy()\n",
    "\n",
    "# Filtrando os resultados somente para o ano de 2019 e use somente as colunas \"UF\" e \"2019\" do dataset.\n",
    "pnt_df_filtrado = pnt_df_filtrado[[\"UF\", 2019]]\n",
    "\n",
    "# Organiza os valores em ordem decrescente\n",
    "pnt_df_filtrado.sort_values(2019, ascending = False, inplace = True, ignore_index= True)\n",
    "\n",
    "# Multiplico por 100 pois os valores estão expressos como porcentagem\n",
    "pnt_df_filtrado[2019] = pnt_df_filtrado[2019]*100 \n",
    "\n",
    "\n",
    "display(\"Dataframe antes: \", pnt_df, \"Dataframe depois: \", pnt_df_filtrado)"
   ]
  },
  {
   "cell_type": "markdown",
   "id": "4c374b52-2d09-463e-bf2c-cc6a9dada51e",
   "metadata": {},
   "source": [
    "## Análise dos dados e visualizações {-}"
   ]
  },
  {
   "cell_type": "markdown",
   "id": "50109337-7134-4498-a5ac-86dcf3bc4614",
   "metadata": {},
   "source": [
    "### Brasil comparado a Europa {-}"
   ]
  },
  {
   "cell_type": "markdown",
   "id": "64e3be75-fd4a-487c-b74c-894b4a286026",
   "metadata": {},
   "source": [
    "Nessa seção, comparo o tempo de deslocamento médio do trabalhadores do Brasil com os trabalhadores ativos da Europa (de 15 até 74 anos somente de áreas urbanas)."
   ]
  },
  {
   "cell_type": "code",
   "execution_count": 6,
   "id": "25d430b8-bbf5-4db6-a725-ba109ddf0502",
   "metadata": {},
   "outputs": [
    {
     "name": "stdout",
     "output_type": "stream",
     "text": [
      "Tempo de deslocamento médio do Brasil: 59.1 minutos por dia ou 4.9 horas por semana  \n",
      "\n"
     ]
    },
    {
     "data": {
      "text/plain": [
       "'Novo dataframe'"
      ]
     },
     "metadata": {},
     "output_type": "display_data"
    },
    {
     "data": {
      "text/html": [
       "<div>\n",
       "<style scoped>\n",
       "    .dataframe tbody tr th:only-of-type {\n",
       "        vertical-align: middle;\n",
       "    }\n",
       "\n",
       "    .dataframe tbody tr th {\n",
       "        vertical-align: top;\n",
       "    }\n",
       "\n",
       "    .dataframe thead th {\n",
       "        text-align: right;\n",
       "    }\n",
       "</style>\n",
       "<table border=\"1\" class=\"dataframe\">\n",
       "  <thead>\n",
       "    <tr style=\"text-align: right;\">\n",
       "      <th></th>\n",
       "      <th>País</th>\n",
       "      <th>Tempo (min)</th>\n",
       "    </tr>\n",
       "  </thead>\n",
       "  <tbody>\n",
       "    <tr>\n",
       "      <th>0</th>\n",
       "      <td>Letônia</td>\n",
       "      <td>68</td>\n",
       "    </tr>\n",
       "    <tr>\n",
       "      <th>1</th>\n",
       "      <td>Hungria</td>\n",
       "      <td>64</td>\n",
       "    </tr>\n",
       "    <tr>\n",
       "      <th>2</th>\n",
       "      <td>República Tcheca</td>\n",
       "      <td>60</td>\n",
       "    </tr>\n",
       "    <tr>\n",
       "      <th>3</th>\n",
       "      <td>Reino Unido</td>\n",
       "      <td>60</td>\n",
       "    </tr>\n",
       "    <tr>\n",
       "      <th>...</th>\n",
       "      <td>...</td>\n",
       "      <td>...</td>\n",
       "    </tr>\n",
       "    <tr>\n",
       "      <th>28</th>\n",
       "      <td>Estônia</td>\n",
       "      <td>46</td>\n",
       "    </tr>\n",
       "    <tr>\n",
       "      <th>29</th>\n",
       "      <td>Eslovênia</td>\n",
       "      <td>42</td>\n",
       "    </tr>\n",
       "    <tr>\n",
       "      <th>30</th>\n",
       "      <td>Chipre</td>\n",
       "      <td>38</td>\n",
       "    </tr>\n",
       "    <tr>\n",
       "      <th>31</th>\n",
       "      <td>Islândia</td>\n",
       "      <td>30</td>\n",
       "    </tr>\n",
       "  </tbody>\n",
       "</table>\n",
       "<p>32 rows × 2 columns</p>\n",
       "</div>"
      ],
      "text/plain": [
       "                País Tempo (min)\n",
       "0            Letônia          68\n",
       "1            Hungria          64\n",
       "2   República Tcheca          60\n",
       "3        Reino Unido          60\n",
       "..               ...         ...\n",
       "28           Estônia          46\n",
       "29         Eslovênia          42\n",
       "30            Chipre          38\n",
       "31          Islândia          30\n",
       "\n",
       "[32 rows x 2 columns]"
      ]
     },
     "metadata": {},
     "output_type": "display_data"
    }
   ],
   "source": [
    "# Determina o tempo médio de deslocamento do Brasil\n",
    "num_entrevistas = pns_df[\"tempo_des_total_min\"].count() # O método count() já desconsidera valores NaN\n",
    "tempo_medio_brasil = pns_df[\"tempo_des_total_min\"].sum()/num_entrevistas\n",
    "print(f\"Tempo de deslocamento médio do Brasil: {tempo_medio_brasil:.1f} minutos por dia ou {tempo_medio_brasil*5/60:.1f} horas por semana \", \"\\n\")\n",
    "\n",
    "# Cria um novo dataframe adicionando \"Brasil\" aos países da Uniao Europeia.\n",
    "brasil_data = pd.DataFrame({'País': 'Brasil', \"Tempo (min)\": [round(tempo_medio_brasil)]})\n",
    "brasil_euro_df = pd.concat([filtred_euro_df, brasil_data], ignore_index = True)\n",
    "brasil_euro_df.sort_values('Tempo (min)', ascending = False, inplace = True, ignore_index = True) # Coloca em ordem decrescente por tempo\n",
    "    \n",
    "display(\"Novo dataframe\", brasil_euro_df)"
   ]
  },
  {
   "cell_type": "markdown",
   "id": "9b84dd1a-6d65-4b2a-8ad8-2478145109c3",
   "metadata": {},
   "source": [
    "Aqui, realizo a visualização do dataframe."
   ]
  },
  {
   "cell_type": "code",
   "execution_count": 7,
   "id": "c5be42a8-110c-4b79-a2bc-3e28b9bfa677",
   "metadata": {},
   "outputs": [
    {
     "data": {
      "image/png": "[encoded data removed]",
      "text/plain": [
       "<Figure size 1300x1000 with 1 Axes>"
      ]
     },
     "metadata": {},
     "output_type": "display_data"
    }
   ],
   "source": [
    "plt.figure(figsize=(13, 10))\n",
    "barlist = plt.barh(brasil_euro_df[\"País\"], brasil_euro_df[\"Tempo (min)\"], color = \"#D3D3D3\") # Define o plot como barras horizontais \n",
    "plt.title('Tempo médio de deslocamento casa-trabalho Brasil + UE (apenas regiões urbanas)') # Define o título \n",
    "plt.xlabel('Tempo (minutos)') # Define o título do eixo \"x\" do gráfico\n",
    "barlist[5].set_color('#FF5733') # Define a cor da barra do \"Brasil\"\n",
    "plt.show()"
   ]
  },
  {
   "cell_type": "markdown",
   "id": "0c84e5ef-c410-44d8-b6f0-f321c7668fc6",
   "metadata": {},
   "source": [
    "Apesar de o Brasil ter um tempo médio de deslocamento apenas ligeiramente inferior aos países da UE, é importante enfatizar que alguns países da lista possuem condições um pouco mais igualitárias e homogêneas, como na Grécia e Chipre, onde, respectivamente, 75,8% e 75,5% da população estava sujeita às mesmas condições de um deslocamento de menos de 30 minutos na ida para o trabalho [4]. \n",
    "No caso do Brasil, um país de grande extensão territorial e com uma população muito grande e diversa, vale a pena investigar como diferentes grupos da população enfrentam essa questão."
   ]
  },
  {
   "cell_type": "markdown",
   "id": "d5551df2-f1fc-48bd-9a31-cd5ae08f8892",
   "metadata": {},
   "source": [
    "### Acessibilidade aos meios de transporte no Brasil {-}\r\n"
   ]
  },
  {
   "cell_type": "markdown",
   "id": "37428e4e-6af2-40cf-aeb4-83863e81733c",
   "metadata": {},
   "source": [
    "Para essa análise, utilizo o índice PNT, que é uma métrica que avalia o percentual da população de uma cidade ou região metropolitana que reside em um raio de até 1 km de estações de sistemas de transporte público de média e alta capacidade (BRT, metrô, trens, ...).\n",
    " \n",
    "\"A primeira pergunta a se fazer para entender do que se trata o PNT é: Existe uma estação de transporte de alta capacidade perto de onde as pessoas vivem?\"\n",
    "\n",
    "Aqui, basta realizar a visualização do dataframe."
   ]
  },
  {
   "cell_type": "code",
   "execution_count": 8,
   "id": "7a1720f0-0fe8-42b9-bd44-be66dbfc75c9",
   "metadata": {},
   "outputs": [
    {
     "name": "stderr",
     "output_type": "stream",
     "text": [
      "C:\\Users\\pdaniel\\AppData\\Local\\Temp\\ipykernel_19436\\3460320418.py:4: UserWarning: FixedFormatter should only be used together with FixedLocator\n",
      "  plt.gca().set_yticklabels(['{:.0f}%'.format(val) for val in plt.gca().get_yticks()]) # Formata o eixo para porcentagem\n"
     ]
    },
    {
     "data": {
      "image/png": "[encoded data removed]",
      "text/plain": [
       "<Figure size 1000x600 with 1 Axes>"
      ]
     },
     "metadata": {},
     "output_type": "display_data"
    }
   ],
   "source": [
    "plt.figure(figsize=(10, 6))\n",
    "bars = plt.bar(pnt_df_filtrado[\"UF\"], pnt_df_filtrado[2019], color= \"#F28500\")\n",
    "plt.title('Percentual de pessoas proximas de transportes de média-alta capacidade por UF')\n",
    "plt.gca().set_yticklabels(['{:.0f}%'.format(val) for val in plt.gca().get_yticks()]) # Formata o eixo para porcentagem\n",
    "\n",
    "# Cria o data label em cima de cada barra.\n",
    "for bar in bars:\n",
    "    height = bar.get_height()\n",
    "    plt.text(bar.get_x() + bar.get_width() / 2., height, '%d%%' % int(height),\n",
    "             ha='center', va='bottom')\n",
    "\n",
    "plt.show()"
   ]
  },
  {
   "cell_type": "markdown",
   "id": "cc61c2a0-3496-4f42-a6d3-81031b4ef742",
   "metadata": {},
   "source": [
    "É possível concluir que apenas uma pequena parcela dos habitantes dos estados mais populosos possui fácil acesso a transportes de média-alta capacidade, o que impacta diretamente no tempo de deslocamento do cidadão. Ainda assim, esse impacto é muito mais significativo em grandes cidades e estados nos quais parte da população reside afastada dos principais centros de trabalho, como São Paulo e Rio de Janeiro."
   ]
  },
  {
   "cell_type": "markdown",
   "id": "e4e71f97-934b-4793-afbf-db3cebde936a",
   "metadata": {},
   "source": [
    "### Tempo de deslocamento médio por UF apenas em regiões urbanas {-}"
   ]
  },
  {
   "cell_type": "markdown",
   "id": "154d8a2d-1c58-49b6-a640-df6774b01205",
   "metadata": {},
   "source": [
    "As análise aqui considerararão somente as regiões urbanas\n",
    "\n",
    "Sabe-se cada UF do Brasil possui condições únicas de investimento e mobilidade urbana. No entanto, como essas condições refletem no tempo de deslocamento médio casa-trabalho dos trabalhadores?"
   ]
  },
  {
   "cell_type": "code",
   "execution_count": 9,
   "id": "cc07cff0-a2ba-461b-bb05-69e504320dd0",
   "metadata": {
    "scrolled": true
   },
   "outputs": [
    {
     "data": {
      "text/html": [
       "<div>\n",
       "<style scoped>\n",
       "    .dataframe tbody tr th:only-of-type {\n",
       "        vertical-align: middle;\n",
       "    }\n",
       "\n",
       "    .dataframe tbody tr th {\n",
       "        vertical-align: top;\n",
       "    }\n",
       "\n",
       "    .dataframe thead th {\n",
       "        text-align: right;\n",
       "    }\n",
       "</style>\n",
       "<table border=\"1\" class=\"dataframe\">\n",
       "  <thead>\n",
       "    <tr style=\"text-align: right;\">\n",
       "      <th></th>\n",
       "      <th>uf</th>\n",
       "      <th>tempo_des_total_min</th>\n",
       "    </tr>\n",
       "  </thead>\n",
       "  <tbody>\n",
       "    <tr>\n",
       "      <th>0</th>\n",
       "      <td>Rio de Janeiro</td>\n",
       "      <td>87.106460</td>\n",
       "    </tr>\n",
       "    <tr>\n",
       "      <th>1</th>\n",
       "      <td>São Paulo</td>\n",
       "      <td>75.422006</td>\n",
       "    </tr>\n",
       "    <tr>\n",
       "      <th>2</th>\n",
       "      <td>Distrito Federal</td>\n",
       "      <td>71.347692</td>\n",
       "    </tr>\n",
       "    <tr>\n",
       "      <th>3</th>\n",
       "      <td>Bahia</td>\n",
       "      <td>69.165125</td>\n",
       "    </tr>\n",
       "    <tr>\n",
       "      <th>...</th>\n",
       "      <td>...</td>\n",
       "      <td>...</td>\n",
       "    </tr>\n",
       "    <tr>\n",
       "      <th>23</th>\n",
       "      <td>Tocantins</td>\n",
       "      <td>43.131898</td>\n",
       "    </tr>\n",
       "    <tr>\n",
       "      <th>24</th>\n",
       "      <td>Acre</td>\n",
       "      <td>42.732500</td>\n",
       "    </tr>\n",
       "    <tr>\n",
       "      <th>25</th>\n",
       "      <td>Rondônia</td>\n",
       "      <td>41.864286</td>\n",
       "    </tr>\n",
       "    <tr>\n",
       "      <th>26</th>\n",
       "      <td>Roraima</td>\n",
       "      <td>41.781777</td>\n",
       "    </tr>\n",
       "  </tbody>\n",
       "</table>\n",
       "<p>27 rows × 2 columns</p>\n",
       "</div>"
      ],
      "text/plain": [
       "                  uf  tempo_des_total_min\n",
       "0     Rio de Janeiro            87.106460\n",
       "1          São Paulo            75.422006\n",
       "2   Distrito Federal            71.347692\n",
       "3              Bahia            69.165125\n",
       "..               ...                  ...\n",
       "23         Tocantins            43.131898\n",
       "24              Acre            42.732500\n",
       "25          Rondônia            41.864286\n",
       "26           Roraima            41.781777\n",
       "\n",
       "[27 rows x 2 columns]"
      ]
     },
     "metadata": {},
     "output_type": "display_data"
    }
   ],
   "source": [
    "# Crio um outro dataframe contendo somente as colunas de UF e tempo\n",
    "tempo_des_uf= pns_df[[\"uf\",\"tempo_des_total_min\"]]\n",
    "\n",
    "# Calculando o tempo médio por uf\n",
    "temp_des_medio_uf = tempo_des_uf.groupby(\"uf\", as_index= False)[\"tempo_des_total_min\"].mean()\n",
    "\n",
    "# Coloco em ordem decrescente por tempo de deslocamento\n",
    "temp_des_medio_uf.sort_values('tempo_des_total_min', ascending = False, inplace = True, ignore_index = True)\n",
    "\n",
    "# Calculando a variação percentual entre o melhor e o pior UF e o tempo médio de deslocamento do Brasil\n",
    "var_per_maior = (temp_des_medio_uf['tempo_des_total_min'].max() - tempo_medio_brasil) * 100 / temp_des_medio_uf['tempo_des_total_min'].max()\n",
    "var_per_menor = (temp_des_medio_uf['tempo_des_total_min'].min() - tempo_medio_brasil) * -100 / temp_des_medio_uf['tempo_des_total_min'].min()\n",
    "\n",
    "display(temp_des_medio_uf)\n"
   ]
  },
  {
   "cell_type": "code",
   "execution_count": 10,
   "id": "548f9a8c-4439-4834-9115-b4a0c4cefbf7",
   "metadata": {},
   "outputs": [
    {
     "name": "stdout",
     "output_type": "stream",
     "text": [
      "Aqui já conseguimos notar uma grande variação no tempo médio de deslocamento por estado. Roraima tem um tempo 41.4% menor que a média nacional, enquanto Rio de Janeiro tem um tempo de 32.2% maior que a média nacional.\n"
     ]
    },
    {
     "data": {
      "image/png": "[encoded data removed]",
      "text/plain": [
       "<Figure size 1300x1000 with 1 Axes>"
      ]
     },
     "metadata": {},
     "output_type": "display_data"
    }
   ],
   "source": [
    "# Define o colormap (atribui uma cor para cada valor) como um gradiente de cores entre #F28500 e #FF5733 (Hex codes).\n",
    "cmap = LinearSegmentedColormap.from_list('custom_gradient', ['#F28500', '#FF5733'])\n",
    "\n",
    "# Normaliza os valores para criar o gradiente de cores\n",
    "norm = mcolors.Normalize(vmin=min(temp_des_medio_uf[\"tempo_des_total_min\"]), vmax=max(temp_des_medio_uf[\"tempo_des_total_min\"]))\n",
    "\n",
    "plt.figure(figsize=(13, 10))\n",
    "plt.barh(temp_des_medio_uf[\"uf\"], temp_des_medio_uf[\"tempo_des_total_min\"], color = cmap(norm(temp_des_medio_uf[\"tempo_des_total_min\"])))\n",
    "plt.title('Tempo médio de deslocamento casa-trabalho por UF (apenas regiões urbanas)')\n",
    "plt.xlabel('Tempo (minutos)')\n",
    "plt.xticks(np.arange(0,100,10)) # Define a os valores exibidos no eixo x\n",
    "\n",
    "print(f\"\"\"Aqui já conseguimos notar uma grande variação no tempo médio de deslocamento por estado. {temp_des_medio_uf['uf'].iloc[-1]} tem um tempo{var_per_menor: .1f}% menor que a média nacional, enquanto {temp_des_medio_uf['uf'].iloc[0]} tem um tempo de{var_per_maior: .1f}% maior que a média nacional.\"\"\")\n",
    "\n",
    "plt.show()"
   ]
  },
  {
   "cell_type": "markdown",
   "id": "4481c411-c9b3-4175-b244-040cd891df34",
   "metadata": {},
   "source": [
    "Além da diferença entre UFs, é relevante examinar um outro aspecto dessa desigualdade: Como a desigualdade na locomoção se apresenta do ponto de vista econômico e racial?. \n",
    "\n",
    "É isso que será abordado nas próximas seções."
   ]
  },
  {
   "cell_type": "markdown",
   "id": "1b2a7b15-0bd6-46f8-8f62-a0f2125db217",
   "metadata": {},
   "source": [
    "### Tempo dedeslocamento médio por renda familiar per capta {-}"
   ]
  },
  {
   "cell_type": "markdown",
   "id": "91bc967e-b288-4c1c-baa8-395fab6ce661",
   "metadata": {},
   "source": [
    "Aqui eu filtro os dados para considerar somente os trabalhadores com renda familiar per capta acima de 0,5 salário mínimos para desconsiderar as situações de extrema pobreza."
   ]
  },
  {
   "cell_type": "code",
   "execution_count": 11,
   "id": "31e543e0-2dad-492e-9940-261e28c2cbe6",
   "metadata": {
    "scrolled": true
   },
   "outputs": [
    {
     "data": {
      "text/plain": [
       "'Dataframe antes: '"
      ]
     },
     "metadata": {},
     "output_type": "display_data"
    },
    {
     "data": {
      "text/html": [
       "<div>\n",
       "<style scoped>\n",
       "    .dataframe tbody tr th:only-of-type {\n",
       "        vertical-align: middle;\n",
       "    }\n",
       "\n",
       "    .dataframe tbody tr th {\n",
       "        vertical-align: top;\n",
       "    }\n",
       "\n",
       "    .dataframe thead th {\n",
       "        text-align: right;\n",
       "    }\n",
       "</style>\n",
       "<table border=\"1\" class=\"dataframe\">\n",
       "  <thead>\n",
       "    <tr style=\"text-align: right;\">\n",
       "      <th></th>\n",
       "      <th>renda_per_capta</th>\n",
       "      <th>tempo_des_total_min</th>\n",
       "    </tr>\n",
       "  </thead>\n",
       "  <tbody>\n",
       "    <tr>\n",
       "      <th>10</th>\n",
       "      <td>Mais de 0,5 até 1 salário mínimo</td>\n",
       "      <td>135.0</td>\n",
       "    </tr>\n",
       "    <tr>\n",
       "      <th>18</th>\n",
       "      <td>Mais de 0,25 até 0,5 salário mínimo</td>\n",
       "      <td>3.0</td>\n",
       "    </tr>\n",
       "    <tr>\n",
       "      <th>22</th>\n",
       "      <td>Mais de 1 até 2 salários mínimos</td>\n",
       "      <td>60.0</td>\n",
       "    </tr>\n",
       "    <tr>\n",
       "      <th>29</th>\n",
       "      <td>Mais de 0,5 até 1 salário mínimo</td>\n",
       "      <td>20.0</td>\n",
       "    </tr>\n",
       "    <tr>\n",
       "      <th>...</th>\n",
       "      <td>...</td>\n",
       "      <td>...</td>\n",
       "    </tr>\n",
       "    <tr>\n",
       "      <th>293246</th>\n",
       "      <td>Mais de 1 até 2 salários mínimos</td>\n",
       "      <td>120.0</td>\n",
       "    </tr>\n",
       "    <tr>\n",
       "      <th>293247</th>\n",
       "      <td>Mais de 1 até 2 salários mínimos</td>\n",
       "      <td>20.0</td>\n",
       "    </tr>\n",
       "    <tr>\n",
       "      <th>293252</th>\n",
       "      <td>Mais de 0,5 até 1 salário mínimo</td>\n",
       "      <td>10.0</td>\n",
       "    </tr>\n",
       "    <tr>\n",
       "      <th>293255</th>\n",
       "      <td>Mais de 1 até 2 salários mínimos</td>\n",
       "      <td>120.0</td>\n",
       "    </tr>\n",
       "  </tbody>\n",
       "</table>\n",
       "<p>35892 rows × 2 columns</p>\n",
       "</div>"
      ],
      "text/plain": [
       "                            renda_per_capta  tempo_des_total_min\n",
       "10         Mais de 0,5 até 1 salário mínimo                135.0\n",
       "18      Mais de 0,25 até 0,5 salário mínimo                  3.0\n",
       "22         Mais de 1 até 2 salários mínimos                 60.0\n",
       "29         Mais de 0,5 até 1 salário mínimo                 20.0\n",
       "...                                     ...                  ...\n",
       "293246     Mais de 1 até 2 salários mínimos                120.0\n",
       "293247     Mais de 1 até 2 salários mínimos                 20.0\n",
       "293252     Mais de 0,5 até 1 salário mínimo                 10.0\n",
       "293255     Mais de 1 até 2 salários mínimos                120.0\n",
       "\n",
       "[35892 rows x 2 columns]"
      ]
     },
     "metadata": {},
     "output_type": "display_data"
    },
    {
     "data": {
      "text/plain": [
       "'Dataframe depois: '"
      ]
     },
     "metadata": {},
     "output_type": "display_data"
    },
    {
     "data": {
      "text/html": [
       "<div>\n",
       "<style scoped>\n",
       "    .dataframe tbody tr th:only-of-type {\n",
       "        vertical-align: middle;\n",
       "    }\n",
       "\n",
       "    .dataframe tbody tr th {\n",
       "        vertical-align: top;\n",
       "    }\n",
       "\n",
       "    .dataframe thead th {\n",
       "        text-align: right;\n",
       "    }\n",
       "</style>\n",
       "<table border=\"1\" class=\"dataframe\">\n",
       "  <thead>\n",
       "    <tr style=\"text-align: right;\">\n",
       "      <th></th>\n",
       "      <th>renda_per_capta</th>\n",
       "      <th>tempo_des_total_min</th>\n",
       "    </tr>\n",
       "  </thead>\n",
       "  <tbody>\n",
       "    <tr>\n",
       "      <th>2</th>\n",
       "      <td>Mais de 0,5 até 1 salário mínimo</td>\n",
       "      <td>62.036997</td>\n",
       "    </tr>\n",
       "    <tr>\n",
       "      <th>3</th>\n",
       "      <td>Mais de 1 até 2 salários mínimos</td>\n",
       "      <td>59.916817</td>\n",
       "    </tr>\n",
       "    <tr>\n",
       "      <th>4</th>\n",
       "      <td>Mais de 2 até 3 salários mínimos</td>\n",
       "      <td>58.141786</td>\n",
       "    </tr>\n",
       "    <tr>\n",
       "      <th>5</th>\n",
       "      <td>Mais de 3 até 5 salários mínimos</td>\n",
       "      <td>55.165929</td>\n",
       "    </tr>\n",
       "    <tr>\n",
       "      <th>6</th>\n",
       "      <td>Mais de 5 salários mínimos</td>\n",
       "      <td>53.056036</td>\n",
       "    </tr>\n",
       "  </tbody>\n",
       "</table>\n",
       "</div>"
      ],
      "text/plain": [
       "                    renda_per_capta  tempo_des_total_min\n",
       "2  Mais de 0,5 até 1 salário mínimo            62.036997\n",
       "3  Mais de 1 até 2 salários mínimos            59.916817\n",
       "4  Mais de 2 até 3 salários mínimos            58.141786\n",
       "5  Mais de 3 até 5 salários mínimos            55.165929\n",
       "6        Mais de 5 salários mínimos            53.056036"
      ]
     },
     "metadata": {},
     "output_type": "display_data"
    }
   ],
   "source": [
    "# Crio um dataframe somente com as colunas de renda familiar per capta e tempo de deslocamento total em minutos\n",
    "tempo_renda_df = pns_df[[\"renda_per_capta\", \"tempo_des_total_min\"]]\n",
    "\n",
    "# Calculando o tempo médio por renda\n",
    "tempo_medio_renda_df = tempo_renda_df.groupby(tempo_renda_df[\"renda_per_capta\"], as_index = False ).mean()\n",
    "\n",
    "# Filtrando para eliminar trabalhadores que com renda familiar per capta abaixo de 0,5 salários mínimos\n",
    "tempo_medio_renda_df_filtrado = tempo_medio_renda_df[2:]\n",
    "\n",
    "display(\"Dataframe antes: \", tempo_renda_df, \"Dataframe depois: \", tempo_medio_renda_df_filtrado)"
   ]
  },
  {
   "cell_type": "code",
   "execution_count": 12,
   "id": "a0529003-30dc-4a82-9966-a1dfba8e898e",
   "metadata": {},
   "outputs": [
    {
     "data": {
      "image/png": "[encoded data removed]",
      "text/plain": [
       "<Figure size 1000x600 with 1 Axes>"
      ]
     },
     "metadata": {},
     "output_type": "display_data"
    }
   ],
   "source": [
    "plt.figure(figsize=(10, 6))\n",
    "bars = plt.bar(tempo_medio_renda_df_filtrado[\"renda_per_capta\"], tempo_medio_renda_df_filtrado[\"tempo_des_total_min\"], color=\"#40BF77\")\n",
    "plt.title('Tempo médio de deslocamento casa-trabalho por renda familiar per capta (apenas regiões urbanas)')\n",
    "plt.xlabel('Renda Familiar per Capta (salário mínimo)')\n",
    "plt.ylabel('Tempo médio de deslocamento (minutos)')\n",
    "plt.axhline(y=tempo_medio_brasil,linewidth=2, color='red', linestyle = \"dotted\", label='Média Nacional') # Média nacional\n",
    "plt.ylim(39, 66) # Modifico os limites do eixo y para melhorar a visibilidade das barras\n",
    "\n",
    "\n",
    "# Renomeia as categorias\n",
    "plt.xticks(tempo_medio_renda_df_filtrado[\"renda_per_capta\"], ['Mais 0,5 até 1', 'Mais de 1 até 2', 'Mais de 1 até 3', 'Mais de 3 até 4', 'Mais de 5'])\n",
    "\n",
    "# Cria o data label em cima de cada barra.\n",
    "for bar in bars:\n",
    "    height = bar.get_height()\n",
    "    plt.text(bar.get_x() + bar.get_width() / 2., height, str(round(height)) + \" min\",\n",
    "             ha='center', va='bottom')\n",
    "\n",
    "plt.legend()\n",
    "\n",
    "plt.show()"
   ]
  },
  {
   "cell_type": "markdown",
   "id": "ad39a843-a75e-43fe-b24e-fafc846e3719",
   "metadata": {},
   "source": [
    "E fica evidente que grupos sociais com rendas menores tendem a demorar mais tempo para chegar ao trabalho. Algumas das hipóteses que ajudam a explicar esse fenômeno, são elas: \n",
    "\n",
    "* Localização residencial/Opções de moradia -> Grupos de renda mais alta muitas vezes tem condições de morar ou se mudar para áreas mais próximas aos seus locas de trabalho.\n",
    "* Meios de Transporte -> Uma renda maior facilita o acesso a mais variedades de meios de transporte mais rápidos e confortáveis, como táxis, carros particulares ou transporte por aplicativo, o que pode reduzir significativamente o tempo para chegar ao trabalho.\n",
    "* Flexibilidade no horário de trabalho -> Pessoas com renda mais alta podem ter mais flexibilidade em seus horários de trabalho, o que pode ajuda-los a evitar os horários de pico no trânsito."
   ]
  },
  {
   "cell_type": "markdown",
   "id": "8609ce31-0589-4bf8-b5ae-873cee359d0a",
   "metadata": {},
   "source": [
    "### Tempo médio de deslocamento por cor/raça. {-}"
   ]
  },
  {
   "cell_type": "markdown",
   "id": "a1e46c2b-5ca7-49e5-899b-9a376e6e4a76",
   "metadata": {},
   "source": [
    "Aqui, analiso o tempo médio de deslocamento por cor/raça do trabalhador brasileiro."
   ]
  },
  {
   "cell_type": "code",
   "execution_count": 13,
   "id": "0009b8f3-181c-42f4-ac7a-2dd3e229a665",
   "metadata": {},
   "outputs": [
    {
     "data": {
      "text/html": [
       "<div>\n",
       "<style scoped>\n",
       "    .dataframe tbody tr th:only-of-type {\n",
       "        vertical-align: middle;\n",
       "    }\n",
       "\n",
       "    .dataframe tbody tr th {\n",
       "        vertical-align: top;\n",
       "    }\n",
       "\n",
       "    .dataframe thead th {\n",
       "        text-align: right;\n",
       "    }\n",
       "</style>\n",
       "<table border=\"1\" class=\"dataframe\">\n",
       "  <thead>\n",
       "    <tr style=\"text-align: right;\">\n",
       "      <th></th>\n",
       "      <th>cor_raca</th>\n",
       "      <th>tempo_des_total_min</th>\n",
       "    </tr>\n",
       "  </thead>\n",
       "  <tbody>\n",
       "    <tr>\n",
       "      <th>0</th>\n",
       "      <td>Amarela</td>\n",
       "      <td>62.801917</td>\n",
       "    </tr>\n",
       "    <tr>\n",
       "      <th>1</th>\n",
       "      <td>Branca</td>\n",
       "      <td>55.785523</td>\n",
       "    </tr>\n",
       "    <tr>\n",
       "      <th>2</th>\n",
       "      <td>Indígena</td>\n",
       "      <td>56.857741</td>\n",
       "    </tr>\n",
       "    <tr>\n",
       "      <th>3</th>\n",
       "      <td>Parda</td>\n",
       "      <td>58.991505</td>\n",
       "    </tr>\n",
       "    <tr>\n",
       "      <th>4</th>\n",
       "      <td>Preta</td>\n",
       "      <td>69.377244</td>\n",
       "    </tr>\n",
       "  </tbody>\n",
       "</table>\n",
       "</div>"
      ],
      "text/plain": [
       "   cor_raca  tempo_des_total_min\n",
       "0   Amarela            62.801917\n",
       "1    Branca            55.785523\n",
       "2  Indígena            56.857741\n",
       "3     Parda            58.991505\n",
       "4     Preta            69.377244"
      ]
     },
     "metadata": {},
     "output_type": "display_data"
    }
   ],
   "source": [
    "# Cria um dataframe somente com a cor/raça e o tempo de deslocamento total em minutos.\n",
    "tempo_des_raca_df = pns_df[['cor_raca', 'tempo_des_total_min']]\n",
    "\n",
    "# Calculando o tempo médio por cor/raça\n",
    "tempo_des_raca_medio_df = tempo_des_raca_df.groupby(tempo_des_raca_df[\"cor_raca\"], as_index = False ).mean()\n",
    "\n",
    "#tempo_des_raca_medio_df['cor_raca'] = tempo_des_raca_medio_df['cor_raca'].astype(str)\n",
    "display(tempo_des_raca_medio_df)"
   ]
  },
  {
   "cell_type": "markdown",
   "id": "5ed3abd9-c5bc-41bc-b70f-a0d7b7a1a471",
   "metadata": {},
   "source": [
    "Para a visualização dos dados, utilizo a biblioteca squarify junto com a matplotlib para fazer um treemap."
   ]
  },
  {
   "cell_type": "code",
   "execution_count": 14,
   "id": "bd4f055b-e071-41dd-ad07-aabeb8a98274",
   "metadata": {},
   "outputs": [
    {
     "data": {
      "image/png": "[encoded data removed]",
      "text/plain": [
       "<Figure size 1000x600 with 1 Axes>"
      ]
     },
     "metadata": {},
     "output_type": "display_data"
    }
   ],
   "source": [
    "plt.figure(figsize=(10, 6))\n",
    "\n",
    "# Cria labels para o treemap\n",
    "labels = [f\"{race}\\n{time} min\" for race, time in zip(tempo_des_raca_medio_df[\"cor_raca\"], tempo_des_raca_medio_df[\"tempo_des_total_min\"].round(1))]\n",
    "\n",
    "# Define os parâmetros das labels.\n",
    "text_kwargs = {'fontsize': 11, 'fontweight': 'bold', 'color': 'Black'}\n",
    "\n",
    "# Normaliza os valores para criar o colormap (spectro de cores).\n",
    "norm = plt.Normalize(tempo_des_raca_medio_df[\"tempo_des_total_min\"].min(), tempo_des_raca_medio_df[\"tempo_des_total_min\"].max())\n",
    "colors = cm.Oranges(norm(tempo_des_raca_medio_df[\"tempo_des_total_min\"])) # Utilizo o colormap \"Oranges\"\n",
    "\n",
    "# Plota o treemap.\n",
    "squarify.plot(sizes=tempo_des_raca_medio_df[\"tempo_des_total_min\"], label=labels, ec = 'black', alpha=0.8, color=colors, text_kwargs = text_kwargs)\n",
    "\n",
    "plt.title('Tempo médio de deslocamento casa-trabalho por cor/raça')\n",
    "plt.axis('off') # Remove os eixos x/y do treemap\n",
    "plt.show()"
   ]
  },
  {
   "cell_type": "markdown",
   "id": "8f3e5368-b2df-4f1a-88d3-6ab3b975dc82",
   "metadata": {},
   "source": [
    "As diferenças étnicas são estruturais e muito complexas para a elaboração de hipóteses nesta análise. De qualquer forma, evidencia-se a existência de desigualdades significativas entre trabalhadores de diferentes cores/raças.\n",
    "\n",
    "No caso mais extremo, os pretos gastam em média 69,4 minutos por dia ou 12 dias por ano no deslocamento para o trabalho, enquanto os brancos gastam em média 55,8 minutos por dia ou 9,6 dias por ano (desconsiderando feriados e finais de semana)."
   ]
  },
  {
   "cell_type": "markdown",
   "id": "15789653-dade-4464-9f52-603bd057042a",
   "metadata": {},
   "source": [
    "## Checagem do resultado {-}"
   ]
  },
  {
   "cell_type": "markdown",
   "id": "d4358a94-7ea2-4c1f-8399-eab649f4dc01",
   "metadata": {},
   "source": [
    "O tempo médio de deslocamento ao trabalho encontrado nesta análise foi de aproximadamente 59,1 minutos por dia ou 4,9 horas por semana, enquanto a média publicada pela revista Valor Econômico [11], com base nos dados da PNS 2019, foi de 4,8 horas semanais.\n",
    "Vale ressaltar que possivelmente certos parâmetros de filtragem (região urbana, rural, metropolitana, trabalhadores ativos ou inativos) podem ter sido diferentes, o que poderia explicar essa mínima diferença de 0,1 hora.\n",
    "\n",
    "\n",
    "O valor encontrado na análise confere com o resultado divulgado pelo IBGE [12], considerando apenas áreas urbanas."
   ]
  },
  {
   "cell_type": "markdown",
   "id": "d63f0035-2b1d-4942-8078-67b48b618b27",
   "metadata": {},
   "source": [
    "## Conclusão {-}\n",
    "\n",
    "Embora o Brasil não apresente um tempo médio de deslocamento para o trabalho alarmente elevado quando comparado a padrões internacionais, observa-se uma significativa desigualdade, uma vez que diferentes grupos populacionais têm experiências bastante distintas.\n"
   ]
  },
  {
   "cell_type": "markdown",
   "id": "a149c214-6b91-48c2-b157-ef478f556323",
   "metadata": {},
   "source": [
    "#### Para análises mais profundas {-}\n",
    "\n",
    "Para obter uma compreensão mais precisa da desigualdade no Brasil no tempo de deslocamento casa-trabalho em comparação com outros países nesse aspecto, poderíamos ampliar a análise calculando a **variância** e o **desvio padrão** para examinar a dispersão dos dados.\r\n",
    "\r\n",
    "Além disso, uma análise da divisão modal (informação disponível na MobiliDados) permitiria obter informações sobre os meios de transporte mais utilizados pela população em cada cidade e UF, fornecendo dados valiosos para embasar decisões governamentais relacionadas a políticas de transporte e mobilidade urbana.\r\n",
    "\r\n",
    "Academicamente, são necessários estudos mais aprofundados (como [1], que analisa a China, e [2] e [3], que analisam os EUA), buscando correlacionar o tempo gasto no deslocamento para o trabalho pelos brasileiros com indicadores de qualidade de vida e como isso afeta a satisfação e a produtividade dos trabalhadores."
   ]
  },
  {
   "cell_type": "markdown",
   "id": "dd26a079-1fc6-45c0-ae4f-6ef42a363ded",
   "metadata": {},
   "source": [
    "## Referências {-}"
   ]
  },
  {
   "cell_type": "markdown",
   "id": "862ed889-c749-4d09-b8aa-d73b2385c4f9",
   "metadata": {},
   "source": [
    "1. Han L, Peng C, Xu Z. The Effect of Commuting Time on Quality of Life: Evidence from China. Int J Environ Res Public Health. 2022 Dec 29;20(1):573. doi: 10.3390/ijerph20010573. PMID: 36612893; PMCID: PMC9819363.\n",
    "(https://www.ncbi.nlm.nih.gov/pmc/articles/PMC9819363/#:~:text=Data%20from%20the%20US%20showed,strain%2C%20and%20poorer%20mental%20health.)\n",
    "\n",
    "2. Gimenez-Nadal J.I., Molina J.A. Daily feelings of US workers and commuting time. J. Transp. Health. 2019;12:21–33. doi: 10.1016/j.jth.2018.11.001. \n",
    "(https://www.sciencedirect.com/science/article/abs/pii/S2214140518303086#preview-section-references)\n",
    "\n",
    "3. Christian T.J. Trade-offs between commuting time and health-related activities. J Urban Health. 2012;89:746–757. doi: 10.1007/s11524-012-9678-6. \n",
    "(https://www.ncbi.nlm.nih.gov/pmc/articles/PMC3462828/)\n",
    "\n",
    "4. Main place of work and commuting time - statistics\n",
    "(https://ec.europa.eu/eurostat/statistics-explained/index.php?title=Main_place_of_work_and_commuting_time_-_statistics)\n",
    "\n",
    "6. PNS - Pesquisa Nacional de Saúde\n",
    " (https://www.ibge.gov.br/estatisticas/sociais/saude/9160-pesquisa-nacional-de-saude.html)\n",
    "\n",
    "7. ITDP lança o indicador PNT (People Near Transit)\n",
    "\n",
    " (https://itdpbrasil.org/pnt#\n",
    "\n",
    "7. Mobilidados - Dados brutos e indicadores\n",
    " (https://mobilidados.org.br/database?category_slug=dados-brutos-e-indicadores))\n",
    "\n"
   ]
  },
  {
   "cell_type": "markdown",
   "id": "7230af17-b8b0-474d-ba2a-78e092b29e80",
   "metadata": {},
   "source": [
    "8. Eurostat - Gabinete de Estatísticas da União Europeia (ou 'European Statistical Office').\n",
    " (https://ec.europa.eu/eurostat)\n",
    "\n",
    "9. Documentação PNS 2019.\n",
    " (https://www.ibge.gov.br/estatisticas/downloads-estatisticas.html?caminho=PNS/2019/Microdados/Documentacao)\n",
    "\n",
    "10. Persons in employment by commuting time, educational attainment level and degree of urbanisation.\n",
    " (https://ec.europa.eu/eurostat/databrowser/bookmark/138d1d25-ecb4-44a6-8d19-f1bb81410ebb?lang=en)l\n",
    "\n",
    "11. Valor Econômico: Tempo de deslocamento ao trabalho no país é de 4,8h por semana, mas chega a 7,8h em SP.\n",
    " (https://valor.globo.com/brasil/noticia/2021/05/07/ibge-tempo-de-deslocamento-ao-trabalho-no-pais-e-de-48h-por-semana-mas-chega-a-78h-em-sp.ghtml)\n",
    "\n",
    "12. IBGE - Educa: Deslocamento para o Trabalho ou Estudo.    \n",
    "(https://educa.ibge.gov.br/professores/educa-atividades/21353-deslocamento-para-o-trabalho.html#:~:text=O%20tempo%20m%C3%A9dio%20de%20deslocamento,5%20horas%20em%20%C3%A1rea%20rural)\n"
   ]
  }
 ],
 "metadata": {
  "kernelspec": {
   "display_name": "Python 3 (ipykernel)",
   "language": "python",
   "name": "python3"
  },
  "language_info": {
   "codemirror_mode": {
    "name": "ipython",
    "version": 3
   },
   "file_extension": ".py",
   "mimetype": "text/x-python",
   "name": "python",
   "nbconvert_exporter": "python",
   "pygments_lexer": "ipython3",
   "version": "3.11.8"
  }
 },
 "nbformat": 4,
 "nbformat_minor": 5
}
