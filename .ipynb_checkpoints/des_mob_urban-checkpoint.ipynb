{
 "cells": [
  {
   "attachments": {},
   "cell_type": "markdown",
   "id": "41ffbea2-c083-4c1f-884a-1def170865f9",
   "metadata": {},
   "source": [
    "# Desigualdades na Mobilidade Urbana no Brasil"
   ]
  },
  {
   "attachments": {},
   "cell_type": "markdown",
   "id": "97f937f6-192b-468f-bf22-142a4fed3485",
   "metadata": {},
   "source": [
    "### Importando bibliotecas"
   ]
  },
  {
   "cell_type": "code",
   "execution_count": 41,
   "id": "b752c905-173a-493b-8b62-3befd1406e39",
   "metadata": {},
   "outputs": [],
   "source": [
    "import pandas as pd\n",
    "from IPython.display import display\n",
    "import matplotlib.pyplot as plt"
   ]
  },
  {
   "cell_type": "markdown",
   "id": "7e133db3-8e67-45f7-8d5e-0fd15df7bb83",
   "metadata": {},
   "source": [
    "### Importando os dados"
   ]
  },
  {
   "cell_type": "code",
   "execution_count": 54,
   "id": "1016cc53-94e2-4338-9fcc-0d4aabff6a8c",
   "metadata": {},
   "outputs": [
    {
     "ename": "FileNotFoundError",
     "evalue": "[Errno 2] No such file or directory: 'C:/Users/pdaniel/Learning/commute_time_europe.csv'",
     "output_type": "error",
     "traceback": [
      "\u001b[1;31m---------------------------------------------------------------------------\u001b[0m",
      "\u001b[1;31mFileNotFoundError\u001b[0m                         Traceback (most recent call last)",
      "Cell \u001b[1;32mIn[54], line 3\u001b[0m\n\u001b[0;32m      1\u001b[0m \u001b[38;5;66;03m# Importando os dados da PNS 2019\u001b[39;00m\n\u001b[0;32m      2\u001b[0m pns_df \u001b[38;5;241m=\u001b[39m pd\u001b[38;5;241m.\u001b[39mread_csv(\u001b[38;5;124m\"\u001b[39m\u001b[38;5;124mC:/Users/pdaniel/Learning/pns2019.csv\u001b[39m\u001b[38;5;124m\"\u001b[39m)\n\u001b[1;32m----> 3\u001b[0m euro_df \u001b[38;5;241m=\u001b[39m \u001b[43mpd\u001b[49m\u001b[38;5;241;43m.\u001b[39;49m\u001b[43mread_excel\u001b[49m\u001b[43m(\u001b[49m\u001b[38;5;124;43m\"\u001b[39;49m\u001b[38;5;124;43mC:/Users/pdaniel/Learning/commute_time_europe.csv\u001b[39;49m\u001b[38;5;124;43m\"\u001b[39;49m\u001b[43m)\u001b[49m\n\u001b[0;32m      4\u001b[0m \u001b[38;5;28mprint\u001b[39m(pns_df)\n\u001b[0;32m      5\u001b[0m \u001b[38;5;28mprint\u001b[39m(euro_df)\n",
      "File \u001b[1;32m~\\AppData\\Local\\Packages\\PythonSoftwareFoundation.Python.3.11_qbz5n2kfra8p0\\LocalCache\\local-packages\\Python311\\site-packages\\pandas\\util\\_decorators.py:211\u001b[0m, in \u001b[0;36mdeprecate_kwarg.<locals>._deprecate_kwarg.<locals>.wrapper\u001b[1;34m(*args, **kwargs)\u001b[0m\n\u001b[0;32m    209\u001b[0m     \u001b[38;5;28;01melse\u001b[39;00m:\n\u001b[0;32m    210\u001b[0m         kwargs[new_arg_name] \u001b[38;5;241m=\u001b[39m new_arg_value\n\u001b[1;32m--> 211\u001b[0m \u001b[38;5;28;01mreturn\u001b[39;00m \u001b[43mfunc\u001b[49m\u001b[43m(\u001b[49m\u001b[38;5;241;43m*\u001b[39;49m\u001b[43margs\u001b[49m\u001b[43m,\u001b[49m\u001b[43m \u001b[49m\u001b[38;5;241;43m*\u001b[39;49m\u001b[38;5;241;43m*\u001b[39;49m\u001b[43mkwargs\u001b[49m\u001b[43m)\u001b[49m\n",
      "File \u001b[1;32m~\\AppData\\Local\\Packages\\PythonSoftwareFoundation.Python.3.11_qbz5n2kfra8p0\\LocalCache\\local-packages\\Python311\\site-packages\\pandas\\util\\_decorators.py:331\u001b[0m, in \u001b[0;36mdeprecate_nonkeyword_arguments.<locals>.decorate.<locals>.wrapper\u001b[1;34m(*args, **kwargs)\u001b[0m\n\u001b[0;32m    325\u001b[0m \u001b[38;5;28;01mif\u001b[39;00m \u001b[38;5;28mlen\u001b[39m(args) \u001b[38;5;241m>\u001b[39m num_allow_args:\n\u001b[0;32m    326\u001b[0m     warnings\u001b[38;5;241m.\u001b[39mwarn(\n\u001b[0;32m    327\u001b[0m         msg\u001b[38;5;241m.\u001b[39mformat(arguments\u001b[38;5;241m=\u001b[39m_format_argument_list(allow_args)),\n\u001b[0;32m    328\u001b[0m         \u001b[38;5;167;01mFutureWarning\u001b[39;00m,\n\u001b[0;32m    329\u001b[0m         stacklevel\u001b[38;5;241m=\u001b[39mfind_stack_level(),\n\u001b[0;32m    330\u001b[0m     )\n\u001b[1;32m--> 331\u001b[0m \u001b[38;5;28;01mreturn\u001b[39;00m \u001b[43mfunc\u001b[49m\u001b[43m(\u001b[49m\u001b[38;5;241;43m*\u001b[39;49m\u001b[43margs\u001b[49m\u001b[43m,\u001b[49m\u001b[43m \u001b[49m\u001b[38;5;241;43m*\u001b[39;49m\u001b[38;5;241;43m*\u001b[39;49m\u001b[43mkwargs\u001b[49m\u001b[43m)\u001b[49m\n",
      "File \u001b[1;32m~\\AppData\\Local\\Packages\\PythonSoftwareFoundation.Python.3.11_qbz5n2kfra8p0\\LocalCache\\local-packages\\Python311\\site-packages\\pandas\\io\\excel\\_base.py:482\u001b[0m, in \u001b[0;36mread_excel\u001b[1;34m(io, sheet_name, header, names, index_col, usecols, squeeze, dtype, engine, converters, true_values, false_values, skiprows, nrows, na_values, keep_default_na, na_filter, verbose, parse_dates, date_parser, thousands, decimal, comment, skipfooter, convert_float, mangle_dupe_cols, storage_options)\u001b[0m\n\u001b[0;32m    480\u001b[0m \u001b[38;5;28;01mif\u001b[39;00m \u001b[38;5;129;01mnot\u001b[39;00m \u001b[38;5;28misinstance\u001b[39m(io, ExcelFile):\n\u001b[0;32m    481\u001b[0m     should_close \u001b[38;5;241m=\u001b[39m \u001b[38;5;28;01mTrue\u001b[39;00m\n\u001b[1;32m--> 482\u001b[0m     io \u001b[38;5;241m=\u001b[39m \u001b[43mExcelFile\u001b[49m\u001b[43m(\u001b[49m\u001b[43mio\u001b[49m\u001b[43m,\u001b[49m\u001b[43m \u001b[49m\u001b[43mstorage_options\u001b[49m\u001b[38;5;241;43m=\u001b[39;49m\u001b[43mstorage_options\u001b[49m\u001b[43m,\u001b[49m\u001b[43m \u001b[49m\u001b[43mengine\u001b[49m\u001b[38;5;241;43m=\u001b[39;49m\u001b[43mengine\u001b[49m\u001b[43m)\u001b[49m\n\u001b[0;32m    483\u001b[0m \u001b[38;5;28;01melif\u001b[39;00m engine \u001b[38;5;129;01mand\u001b[39;00m engine \u001b[38;5;241m!=\u001b[39m io\u001b[38;5;241m.\u001b[39mengine:\n\u001b[0;32m    484\u001b[0m     \u001b[38;5;28;01mraise\u001b[39;00m \u001b[38;5;167;01mValueError\u001b[39;00m(\n\u001b[0;32m    485\u001b[0m         \u001b[38;5;124m\"\u001b[39m\u001b[38;5;124mEngine should not be specified when passing \u001b[39m\u001b[38;5;124m\"\u001b[39m\n\u001b[0;32m    486\u001b[0m         \u001b[38;5;124m\"\u001b[39m\u001b[38;5;124man ExcelFile - ExcelFile already has the engine set\u001b[39m\u001b[38;5;124m\"\u001b[39m\n\u001b[0;32m    487\u001b[0m     )\n",
      "File \u001b[1;32m~\\AppData\\Local\\Packages\\PythonSoftwareFoundation.Python.3.11_qbz5n2kfra8p0\\LocalCache\\local-packages\\Python311\\site-packages\\pandas\\io\\excel\\_base.py:1652\u001b[0m, in \u001b[0;36mExcelFile.__init__\u001b[1;34m(self, path_or_buffer, engine, storage_options)\u001b[0m\n\u001b[0;32m   1650\u001b[0m     ext \u001b[38;5;241m=\u001b[39m \u001b[38;5;124m\"\u001b[39m\u001b[38;5;124mxls\u001b[39m\u001b[38;5;124m\"\u001b[39m\n\u001b[0;32m   1651\u001b[0m \u001b[38;5;28;01melse\u001b[39;00m:\n\u001b[1;32m-> 1652\u001b[0m     ext \u001b[38;5;241m=\u001b[39m \u001b[43minspect_excel_format\u001b[49m\u001b[43m(\u001b[49m\n\u001b[0;32m   1653\u001b[0m \u001b[43m        \u001b[49m\u001b[43mcontent_or_path\u001b[49m\u001b[38;5;241;43m=\u001b[39;49m\u001b[43mpath_or_buffer\u001b[49m\u001b[43m,\u001b[49m\u001b[43m \u001b[49m\u001b[43mstorage_options\u001b[49m\u001b[38;5;241;43m=\u001b[39;49m\u001b[43mstorage_options\u001b[49m\n\u001b[0;32m   1654\u001b[0m \u001b[43m    \u001b[49m\u001b[43m)\u001b[49m\n\u001b[0;32m   1655\u001b[0m     \u001b[38;5;28;01mif\u001b[39;00m ext \u001b[38;5;129;01mis\u001b[39;00m \u001b[38;5;28;01mNone\u001b[39;00m:\n\u001b[0;32m   1656\u001b[0m         \u001b[38;5;28;01mraise\u001b[39;00m \u001b[38;5;167;01mValueError\u001b[39;00m(\n\u001b[0;32m   1657\u001b[0m             \u001b[38;5;124m\"\u001b[39m\u001b[38;5;124mExcel file format cannot be determined, you must specify \u001b[39m\u001b[38;5;124m\"\u001b[39m\n\u001b[0;32m   1658\u001b[0m             \u001b[38;5;124m\"\u001b[39m\u001b[38;5;124man engine manually.\u001b[39m\u001b[38;5;124m\"\u001b[39m\n\u001b[0;32m   1659\u001b[0m         )\n",
      "File \u001b[1;32m~\\AppData\\Local\\Packages\\PythonSoftwareFoundation.Python.3.11_qbz5n2kfra8p0\\LocalCache\\local-packages\\Python311\\site-packages\\pandas\\io\\excel\\_base.py:1525\u001b[0m, in \u001b[0;36minspect_excel_format\u001b[1;34m(content_or_path, storage_options)\u001b[0m\n\u001b[0;32m   1522\u001b[0m \u001b[38;5;28;01mif\u001b[39;00m \u001b[38;5;28misinstance\u001b[39m(content_or_path, \u001b[38;5;28mbytes\u001b[39m):\n\u001b[0;32m   1523\u001b[0m     content_or_path \u001b[38;5;241m=\u001b[39m BytesIO(content_or_path)\n\u001b[1;32m-> 1525\u001b[0m \u001b[38;5;28;01mwith\u001b[39;00m \u001b[43mget_handle\u001b[49m\u001b[43m(\u001b[49m\n\u001b[0;32m   1526\u001b[0m \u001b[43m    \u001b[49m\u001b[43mcontent_or_path\u001b[49m\u001b[43m,\u001b[49m\u001b[43m \u001b[49m\u001b[38;5;124;43m\"\u001b[39;49m\u001b[38;5;124;43mrb\u001b[39;49m\u001b[38;5;124;43m\"\u001b[39;49m\u001b[43m,\u001b[49m\u001b[43m \u001b[49m\u001b[43mstorage_options\u001b[49m\u001b[38;5;241;43m=\u001b[39;49m\u001b[43mstorage_options\u001b[49m\u001b[43m,\u001b[49m\u001b[43m \u001b[49m\u001b[43mis_text\u001b[49m\u001b[38;5;241;43m=\u001b[39;49m\u001b[38;5;28;43;01mFalse\u001b[39;49;00m\n\u001b[0;32m   1527\u001b[0m \u001b[43m\u001b[49m\u001b[43m)\u001b[49m \u001b[38;5;28;01mas\u001b[39;00m handle:\n\u001b[0;32m   1528\u001b[0m     stream \u001b[38;5;241m=\u001b[39m handle\u001b[38;5;241m.\u001b[39mhandle\n\u001b[0;32m   1529\u001b[0m     stream\u001b[38;5;241m.\u001b[39mseek(\u001b[38;5;241m0\u001b[39m)\n",
      "File \u001b[1;32m~\\AppData\\Local\\Packages\\PythonSoftwareFoundation.Python.3.11_qbz5n2kfra8p0\\LocalCache\\local-packages\\Python311\\site-packages\\pandas\\io\\common.py:865\u001b[0m, in \u001b[0;36mget_handle\u001b[1;34m(path_or_buf, mode, encoding, compression, memory_map, is_text, errors, storage_options)\u001b[0m\n\u001b[0;32m    856\u001b[0m         handle \u001b[38;5;241m=\u001b[39m \u001b[38;5;28mopen\u001b[39m(\n\u001b[0;32m    857\u001b[0m             handle,\n\u001b[0;32m    858\u001b[0m             ioargs\u001b[38;5;241m.\u001b[39mmode,\n\u001b[1;32m   (...)\u001b[0m\n\u001b[0;32m    861\u001b[0m             newline\u001b[38;5;241m=\u001b[39m\u001b[38;5;124m\"\u001b[39m\u001b[38;5;124m\"\u001b[39m,\n\u001b[0;32m    862\u001b[0m         )\n\u001b[0;32m    863\u001b[0m     \u001b[38;5;28;01melse\u001b[39;00m:\n\u001b[0;32m    864\u001b[0m         \u001b[38;5;66;03m# Binary mode\u001b[39;00m\n\u001b[1;32m--> 865\u001b[0m         handle \u001b[38;5;241m=\u001b[39m \u001b[38;5;28mopen\u001b[39m(handle, ioargs\u001b[38;5;241m.\u001b[39mmode)\n\u001b[0;32m    866\u001b[0m     handles\u001b[38;5;241m.\u001b[39mappend(handle)\n\u001b[0;32m    868\u001b[0m \u001b[38;5;66;03m# Convert BytesIO or file objects passed with an encoding\u001b[39;00m\n",
      "\u001b[1;31mFileNotFoundError\u001b[0m: [Errno 2] No such file or directory: 'C:/Users/pdaniel/Learning/commute_time_europe.csv'"
     ]
    }
   ],
   "source": [
    "# Importando os dados da PNS 2019\n",
    "pns_df = pd.read_csv(\"C:/Users/pdaniel/Learning/pns2019.csv\")\n",
    "euro_df = pd.read_excel(\"C:/Users/pdaniel/Learning/commute_time_europe.csv\", page = [3])\n",
    "print(pns_df)\n",
    "print(euro_df)"
   ]
  },
  {
   "cell_type": "markdown",
   "id": "2728b58d-f09e-4907-b655-a0a1e5c829e4",
   "metadata": {},
   "source": [
    "### Tratando os dados"
   ]
  },
  {
   "attachments": {},
   "cell_type": "markdown",
   "id": "47a605b3",
   "metadata": {},
   "source": [
    "O dataset do PNS possui códigos. Aqui eu trato os dados.\n",
    "\n",
    "V0001 -> Unidade da federação.\n",
    "\n",
    "M00402 -> Quanto tempo em minutos o(a) Sr(a) gasta, normalmente, por dia, no deslocamento para o(s) seu(s) trabalho(s), considerando ida e volta. (somente pessoas empregadas) (Resposta em minutos) \n",
    "\n",
    "M00401 -> Quanto tempo em horas o(a) Sr(a) gasta(va), normalmente, por dia, no deslocamento para o(s) seu(s) trabalho(s), considerando ida e volta. (somente pessoas empregadas) (Respota em horas)\n",
    "\n",
    "V0026 -> Tipo de situação censitária (Urbano ou Rural).\n",
    "\n",
    "\n",
    "Aqui, vou \"traduzir\" os códigos da Unidade da Federação para os seus respectivos nomes e filtro o dataframe para analisar somente moradores da região urbana do Brasil.\n",
    "\n"
   ]
  },
  {
   "cell_type": "code",
   "execution_count": 46,
   "id": "7af0a796-cb1e-4ac5-95e3-be54fda2d395",
   "metadata": {},
   "outputs": [
    {
     "data": {
      "text/plain": [
       "0         Urbano\n",
       "1         Urbano\n",
       "2         Urbano\n",
       "3         Urbano\n",
       "4         Urbano\n",
       "           ...  \n",
       "293253    Urbano\n",
       "293254    Urbano\n",
       "293255    Urbano\n",
       "293256    Urbano\n",
       "293257    Urbano\n",
       "Name: localidade, Length: 224159, dtype: object"
      ]
     },
     "metadata": {},
     "output_type": "display_data"
    }
   ],
   "source": [
    "# Criando um dicionário com os códigos da UF (V0001)\n",
    "code_to_uf = {\n",
    "    11:'Rondônia',\n",
    "    12:'Acre',\n",
    "    13:'Amazonas',\n",
    "    14:'Roraima',\n",
    "    15:'Pará',\n",
    "    16:'Amapá',\n",
    "    17:'Tocantins',\n",
    "    21:'Maranhão',\n",
    "    22:'Piauí',\n",
    "    23:'Ceará',\n",
    "    24:'Rio Grande do Norte',\n",
    "    25:'Paraíba',\n",
    "    26:'Pernambuco',\n",
    "    27:'Alagoas',\n",
    "    28:'Sergipe',\n",
    "    29:'Bahia',\n",
    "    31:'Minas Gerais',\n",
    "    32:'Espírito Santo',\n",
    "    33:'Rio de Janeiro',\n",
    "    35:'São Paulo',\n",
    "    41:'Paraná',\n",
    "    42:'Santa Catarina',\n",
    "    43:'Rio Grande do Sul',\n",
    "    50:'Mato Grosso do Sul',\n",
    "    51:'Mato Grosso',\n",
    "    52:'Goiás',\n",
    "    53:'Distrito Federal'\n",
    "}\n",
    "\n",
    "# Criando um dicionário com os códigos de localidade (V0026)\n",
    "code_to_loc = {1:\"Urbano\",\n",
    "               2:\"Rural\"}\n",
    "\n",
    "# Renomeando as colunas\n",
    "pns_df.rename(columns = {\"V0001\": \"uf\"}, inplace=True)\n",
    "pns_df.rename(columns = {\"M00402\": \"tempo_des_casa_trab_min\"}, inplace=True)\n",
    "pns_df.rename(columns = {\"M00401\": \"tempo_des_casa_trab_hr\"}, inplace=True)\n",
    "pns_df.rename(columns = {\"V0026\": \"localidade\"}, inplace=True)\n",
    "\n",
    "# \"Traduzindo\" os códigos dos UFs\n",
    "pns_df[\"uf\"] = pns_df[\"uf\"].map(code_to_uf)\n",
    "#pns_df[\"tempo_des_casa_trab\"] = pns_df[\"tempo_des_casa_trab\"].fillna(0)\n",
    "\n",
    "# \"Traduzindo\" os códigos das localidadews\n",
    "pns_df[\"localidade\"] = pns_df[\"localidade\"].map(code_to_loc)\n",
    "\n",
    "# Filtrando o dataframe somente com as entrevistas de moradores da área urbana.\n",
    "pns_df = pns_df[pns_df[\"localidade\"] == \"Urbano\"]\n",
    "\n",
    "#display(pns_df_urbano)\n",
    "display(pns_df[\"localidade\"])\n"
   ]
  },
  {
   "cell_type": "markdown",
   "id": "e4e71f97-934b-4793-afbf-db3cebde936a",
   "metadata": {},
   "source": [
    "### Determinando o tempo de deslocamento médio por UF"
   ]
  },
  {
   "cell_type": "code",
   "execution_count": 52,
   "id": "cc07cff0-a2ba-461b-bb05-69e504320dd0",
   "metadata": {
    "scrolled": true
   },
   "outputs": [
    {
     "name": "stdout",
     "output_type": "stream",
     "text": [
      "56.36215929355305\n"
     ]
    },
    {
     "data": {
      "text/html": [
       "<div>\n",
       "<style scoped>\n",
       "    .dataframe tbody tr th:only-of-type {\n",
       "        vertical-align: middle;\n",
       "    }\n",
       "\n",
       "    .dataframe tbody tr th {\n",
       "        vertical-align: top;\n",
       "    }\n",
       "\n",
       "    .dataframe thead th {\n",
       "        text-align: right;\n",
       "    }\n",
       "</style>\n",
       "<table border=\"1\" class=\"dataframe\">\n",
       "  <thead>\n",
       "    <tr style=\"text-align: right;\">\n",
       "      <th></th>\n",
       "      <th>uf</th>\n",
       "      <th>tempo_des_total_min</th>\n",
       "    </tr>\n",
       "  </thead>\n",
       "  <tbody>\n",
       "    <tr>\n",
       "      <th>20</th>\n",
       "      <td>Rio de Janeiro</td>\n",
       "      <td>87.106460</td>\n",
       "    </tr>\n",
       "    <tr>\n",
       "      <th>25</th>\n",
       "      <td>São Paulo</td>\n",
       "      <td>75.562826</td>\n",
       "    </tr>\n",
       "    <tr>\n",
       "      <th>6</th>\n",
       "      <td>Distrito Federal</td>\n",
       "      <td>71.362029</td>\n",
       "    </tr>\n",
       "    <tr>\n",
       "      <th>4</th>\n",
       "      <td>Bahia</td>\n",
       "      <td>69.165125</td>\n",
       "    </tr>\n",
       "    <tr>\n",
       "      <th>16</th>\n",
       "      <td>Pernambuco</td>\n",
       "      <td>67.906535</td>\n",
       "    </tr>\n",
       "    <tr>\n",
       "      <th>3</th>\n",
       "      <td>Amazonas</td>\n",
       "      <td>65.015576</td>\n",
       "    </tr>\n",
       "    <tr>\n",
       "      <th>15</th>\n",
       "      <td>Pará</td>\n",
       "      <td>64.320364</td>\n",
       "    </tr>\n",
       "    <tr>\n",
       "      <th>12</th>\n",
       "      <td>Minas Gerais</td>\n",
       "      <td>63.704805</td>\n",
       "    </tr>\n",
       "    <tr>\n",
       "      <th>24</th>\n",
       "      <td>Sergipe</td>\n",
       "      <td>61.383215</td>\n",
       "    </tr>\n",
       "    <tr>\n",
       "      <th>7</th>\n",
       "      <td>Espírito Santo</td>\n",
       "      <td>60.963429</td>\n",
       "    </tr>\n",
       "    <tr>\n",
       "      <th>1</th>\n",
       "      <td>Alagoas</td>\n",
       "      <td>59.150104</td>\n",
       "    </tr>\n",
       "    <tr>\n",
       "      <th>8</th>\n",
       "      <td>Goiás</td>\n",
       "      <td>56.843566</td>\n",
       "    </tr>\n",
       "    <tr>\n",
       "      <th>19</th>\n",
       "      <td>Rio Grande do Sul</td>\n",
       "      <td>53.890811</td>\n",
       "    </tr>\n",
       "    <tr>\n",
       "      <th>13</th>\n",
       "      <td>Paraná</td>\n",
       "      <td>51.809908</td>\n",
       "    </tr>\n",
       "    <tr>\n",
       "      <th>14</th>\n",
       "      <td>Paraíba</td>\n",
       "      <td>51.660038</td>\n",
       "    </tr>\n",
       "    <tr>\n",
       "      <th>18</th>\n",
       "      <td>Rio Grande do Norte</td>\n",
       "      <td>51.157324</td>\n",
       "    </tr>\n",
       "    <tr>\n",
       "      <th>5</th>\n",
       "      <td>Ceará</td>\n",
       "      <td>50.985726</td>\n",
       "    </tr>\n",
       "    <tr>\n",
       "      <th>10</th>\n",
       "      <td>Mato Grosso</td>\n",
       "      <td>50.346734</td>\n",
       "    </tr>\n",
       "    <tr>\n",
       "      <th>2</th>\n",
       "      <td>Amapá</td>\n",
       "      <td>49.446154</td>\n",
       "    </tr>\n",
       "    <tr>\n",
       "      <th>9</th>\n",
       "      <td>Maranhão</td>\n",
       "      <td>49.325439</td>\n",
       "    </tr>\n",
       "    <tr>\n",
       "      <th>11</th>\n",
       "      <td>Mato Grosso do Sul</td>\n",
       "      <td>48.493773</td>\n",
       "    </tr>\n",
       "    <tr>\n",
       "      <th>17</th>\n",
       "      <td>Piauí</td>\n",
       "      <td>46.800451</td>\n",
       "    </tr>\n",
       "    <tr>\n",
       "      <th>23</th>\n",
       "      <td>Santa Catarina</td>\n",
       "      <td>45.867448</td>\n",
       "    </tr>\n",
       "    <tr>\n",
       "      <th>26</th>\n",
       "      <td>Tocantins</td>\n",
       "      <td>43.131898</td>\n",
       "    </tr>\n",
       "    <tr>\n",
       "      <th>0</th>\n",
       "      <td>Acre</td>\n",
       "      <td>42.732500</td>\n",
       "    </tr>\n",
       "    <tr>\n",
       "      <th>21</th>\n",
       "      <td>Rondônia</td>\n",
       "      <td>41.864286</td>\n",
       "    </tr>\n",
       "    <tr>\n",
       "      <th>22</th>\n",
       "      <td>Roraima</td>\n",
       "      <td>41.781777</td>\n",
       "    </tr>\n",
       "  </tbody>\n",
       "</table>\n",
       "</div>"
      ],
      "text/plain": [
       "                     uf  tempo_des_total_min\n",
       "20       Rio de Janeiro            87.106460\n",
       "25            São Paulo            75.562826\n",
       "6      Distrito Federal            71.362029\n",
       "4                 Bahia            69.165125\n",
       "16           Pernambuco            67.906535\n",
       "3              Amazonas            65.015576\n",
       "15                 Pará            64.320364\n",
       "12         Minas Gerais            63.704805\n",
       "24              Sergipe            61.383215\n",
       "7        Espírito Santo            60.963429\n",
       "1               Alagoas            59.150104\n",
       "8                 Goiás            56.843566\n",
       "19    Rio Grande do Sul            53.890811\n",
       "13               Paraná            51.809908\n",
       "14              Paraíba            51.660038\n",
       "18  Rio Grande do Norte            51.157324\n",
       "5                 Ceará            50.985726\n",
       "10          Mato Grosso            50.346734\n",
       "2                 Amapá            49.446154\n",
       "9              Maranhão            49.325439\n",
       "11   Mato Grosso do Sul            48.493773\n",
       "17                Piauí            46.800451\n",
       "23       Santa Catarina            45.867448\n",
       "26            Tocantins            43.131898\n",
       "0                  Acre            42.732500\n",
       "21             Rondônia            41.864286\n",
       "22              Roraima            41.781777"
      ]
     },
     "metadata": {},
     "output_type": "display_data"
    }
   ],
   "source": [
    "# Crio um dataframe com as informações importantes do tempo de deslocamento\n",
    "tempo_des_df = pns_df[[\"uf\", \"tempo_des_casa_trab_hr\", \"tempo_des_casa_trab_min\"]]\n",
    "tempo_des_df = tempo_des_df.dropna()\n",
    "\n",
    "# Transformo o tempo da coluna de hora para minutos\n",
    "tempo_des_df[\"tempo_des_casa_trab_hr\"] = tempo_des_df[\"tempo_des_casa_trab_hr\"]*60\n",
    "\n",
    "# Crio uma outra coluna para somar o tempo das duas colunas em minutos\n",
    "tempo_des_df[\"tempo_des_total_min\"] = tempo_des_df[\"tempo_des_casa_trab_hr\"] + tempo_des_df[\"tempo_des_casa_trab_min\"]\n",
    "\n",
    "# Crio um outro dataframe contendo somente as colunas de UF e tempo\n",
    "tempo_des_uf= tempo_des_df[[\"uf\",\"tempo_des_total_min\"]]\n",
    "\n",
    "# Calculando o tempo médio por uf\n",
    "temp_des_medio_uf = tempo_des_uf.groupby(\"uf\", as_index= False)[\"tempo_des_total_min\"].mean()\n",
    "\n",
    "# Calcula o tempo médio do Brasil\n",
    "print(temp_des_medio_uf[\"tempo_des_total_min\"].sum()/27)\n",
    "\n",
    "# Coloco em ordem decrescente por tempo de deslocamento\n",
    "temp_des_medio_uf.sort_values('tempo_des_total_min', ascending = False, inplace = True)\n",
    "display(temp_des_medio_uf)\n"
   ]
  },
  {
   "cell_type": "markdown",
   "id": "a1a68f27-cce6-46f5-8318-3c67677af002",
   "metadata": {},
   "source": [
    "Determinando o tempo médio gasto no deslocamento casa-trabalho pelo trabalhor de cada estado."
   ]
  },
  {
   "cell_type": "code",
   "execution_count": 50,
   "id": "548f9a8c-4439-4834-9115-b4a0c4cefbf7",
   "metadata": {},
   "outputs": [
    {
     "data": {
      "image/png": "[encoded data removed]",
      "text/plain": [
       "<Figure size 1000x600 with 1 Axes>"
      ]
     },
     "metadata": {},
     "output_type": "display_data"
    }
   ],
   "source": [
    "plt.figure(figsize=(10, 6))\n",
    "plt.barh(temp_des_medio_uf[\"uf\"], temp_des_medio_uf[\"tempo_des_total_min\"])\n",
    "plt.title('Tempo médio de deslocamento casa-trabalho por UF (apenas regiões urbanas)')\n",
    "plt.xlabel('Tempo (minutos)')\n",
    "plt.xticks(rotation=0)\n",
    "#plt.legend(title='State')\n",
    "\n",
    "plt.show()"
   ]
  },
  {
   "cell_type": "code",
   "execution_count": null,
   "id": "ac1465d5-fa5f-4bce-96d3-7899bca3f7fa",
   "metadata": {},
   "outputs": [],
   "source": [
    "A média do Brasil é de aproximadamente 56,4 minutos ou 4,7 horas por semana. "
   ]
  },
  {
   "cell_type": "code",
   "execution_count": null,
   "id": "6378e343-0e36-4abd-b783-32b815383cd0",
   "metadata": {},
   "outputs": [],
   "source": []
  }
 ],
 "metadata": {
  "kernelspec": {
   "display_name": "Python 3 (ipykernel)",
   "language": "python",
   "name": "python3"
  },
  "language_info": {
   "codemirror_mode": {
    "name": "ipython",
    "version": 3
   },
   "file_extension": ".py",
   "mimetype": "text/x-python",
   "name": "python",
   "nbconvert_exporter": "python",
   "pygments_lexer": "ipython3",
   "version": "3.11.8"
  }
 },
 "nbformat": 4,
 "nbformat_minor": 5
}
